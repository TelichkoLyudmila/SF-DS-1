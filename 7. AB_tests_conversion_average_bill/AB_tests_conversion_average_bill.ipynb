{
 "cells": [
  {
   "cell_type": "markdown",
   "metadata": {},
   "source": [
    "## A/B-тестирование на конверсию и средний чек двух программ туроператора"
   ]
  },
  {
   "attachments": {},
   "cell_type": "markdown",
   "metadata": {},
   "source": [
    "### Задача: \n",
    "Проанализировать эффективность 2 вариантов посадочной страницы турагентства по двум критериям — конверсии покупки и ежедневному среднему чеку.\n",
    "\n",
    "### План:\n",
    "1. Анализ струтктуры данных и предобработка\n",
    "2. Расчет ключевых метрик для АВ-тестов\n",
    "3. Предварительные результаты\n",
    "4. Проверка стабилизации метрик \n",
    "5. Статистический анализ результатов A/B-тестирования\n",
    "6. Вывод: какой вариант посадочной страницы более предпочтителен по метрикам конверсии и ежедневного среднего чека\n",
    "\n",
    "Компания предлагает следующие варианты туров:\n",
    "\n",
    "Таиланд — 100 000 рублей;\\\n",
    "Турция — 60 000 рублей;\\\n",
    "Мальдивы — 200 000 рублей;\\\n",
    "Санкт-Петербург — 10 000 рублей;\\\n",
    "Камчатка — 150 000 рублей.\n",
    "\n",
    "Также у нас есть данные к какой тестовой группе относился клиент, и совершил он покупку или нет"
   ]
  },
  {
   "cell_type": "code",
   "execution_count": 115,
   "metadata": {},
   "outputs": [],
   "source": [
    "import pandas as pd\n",
    "import matplotlib.pyplot as plt\n",
    "import seaborn as sns\n",
    "\n",
    "from scipy import stats\n",
    "from scipy.stats import shapiro"
   ]
  },
  {
   "cell_type": "markdown",
   "metadata": {},
   "source": [
    "Импортируем данные"
   ]
  },
  {
   "cell_type": "code",
   "execution_count": 116,
   "metadata": {},
   "outputs": [
    {
     "data": {
      "text/html": [
       "<div>\n",
       "<style scoped>\n",
       "    .dataframe tbody tr th:only-of-type {\n",
       "        vertical-align: middle;\n",
       "    }\n",
       "\n",
       "    .dataframe tbody tr th {\n",
       "        vertical-align: top;\n",
       "    }\n",
       "\n",
       "    .dataframe thead th {\n",
       "        text-align: right;\n",
       "    }\n",
       "</style>\n",
       "<table border=\"1\" class=\"dataframe\">\n",
       "  <thead>\n",
       "    <tr style=\"text-align: right;\">\n",
       "      <th></th>\n",
       "      <th>user_id</th>\n",
       "      <th>date</th>\n",
       "      <th>group</th>\n",
       "      <th>purchase</th>\n",
       "      <th>price</th>\n",
       "    </tr>\n",
       "  </thead>\n",
       "  <tbody>\n",
       "    <tr>\n",
       "      <th>0</th>\n",
       "      <td>851104</td>\n",
       "      <td>2021-01-21</td>\n",
       "      <td>A</td>\n",
       "      <td>0</td>\n",
       "      <td>0</td>\n",
       "    </tr>\n",
       "    <tr>\n",
       "      <th>1</th>\n",
       "      <td>804228</td>\n",
       "      <td>2021-01-12</td>\n",
       "      <td>A</td>\n",
       "      <td>0</td>\n",
       "      <td>0</td>\n",
       "    </tr>\n",
       "    <tr>\n",
       "      <th>2</th>\n",
       "      <td>661590</td>\n",
       "      <td>2021-01-11</td>\n",
       "      <td>B</td>\n",
       "      <td>0</td>\n",
       "      <td>0</td>\n",
       "    </tr>\n",
       "    <tr>\n",
       "      <th>3</th>\n",
       "      <td>853541</td>\n",
       "      <td>2021-01-08</td>\n",
       "      <td>B</td>\n",
       "      <td>0</td>\n",
       "      <td>0</td>\n",
       "    </tr>\n",
       "    <tr>\n",
       "      <th>4</th>\n",
       "      <td>864975</td>\n",
       "      <td>2021-01-21</td>\n",
       "      <td>A</td>\n",
       "      <td>1</td>\n",
       "      <td>150000</td>\n",
       "    </tr>\n",
       "  </tbody>\n",
       "</table>\n",
       "</div>"
      ],
      "text/plain": [
       "   user_id        date group  purchase   price\n",
       "0   851104  2021-01-21     A         0       0\n",
       "1   804228  2021-01-12     A         0       0\n",
       "2   661590  2021-01-11     B         0       0\n",
       "3   853541  2021-01-08     B         0       0\n",
       "4   864975  2021-01-21     A         1  150000"
      ]
     },
     "execution_count": 116,
     "metadata": {},
     "output_type": "execute_result"
    }
   ],
   "source": [
    "data = pd.read_csv('data/ab_data_tourist.csv')\n",
    "data.head()"
   ]
  },
  {
   "attachments": {},
   "cell_type": "markdown",
   "metadata": {},
   "source": [
    "Наша таблица представлена следующими полями:\n",
    "\n",
    "user_id — идентификатор пользователя, зашедшего на сайт;\\\n",
    "data — дата посещения сайта;\\\n",
    "group — группа теста (контрольная — А или тестовая — B);\\\n",
    "purchase — признак покупки: совершил ли пользователь покупку тура (1 — да, 0 — нет);\\\n",
    "price — цена купленного тура (если покупка не состоялась, цена равна 0)."
   ]
  },
  {
   "attachments": {},
   "cell_type": "markdown",
   "metadata": {},
   "source": [
    "\t\n",
    "## 1. Анализ струтктуры данных и предобработка\n",
    "\n",
    "Для этого проведем:\n",
    "- исследование структуру данных;\n",
    "- преобразование к необходимым типам данных.\n",
    "- Убедимся в одинаковой длительности проведения A/B-тестирования в каждой из групп. Если длительность разная, унифицируем данные, удалив лишние данные для соответствующей группы.\n",
    "- Проверим данные на наличие пропусков и избавимся от них, если нужно.\n",
    "- Проверим, есть ли пользователи, которые в процессе A/B-теста попали в обе группы. Если да, исключим\n"
   ]
  },
  {
   "cell_type": "code",
   "execution_count": 117,
   "metadata": {},
   "outputs": [
    {
     "name": "stdout",
     "output_type": "stream",
     "text": [
      "<class 'pandas.core.frame.DataFrame'>\n",
      "RangeIndex: 294478 entries, 0 to 294477\n",
      "Data columns (total 5 columns):\n",
      " #   Column    Non-Null Count   Dtype \n",
      "---  ------    --------------   ----- \n",
      " 0   user_id   294478 non-null  int64 \n",
      " 1   date      294478 non-null  object\n",
      " 2   group     294478 non-null  object\n",
      " 3   purchase  294478 non-null  int64 \n",
      " 4   price     294478 non-null  int64 \n",
      "dtypes: int64(3), object(2)\n",
      "memory usage: 11.2+ MB\n",
      "Число найденных полных дубликатов: 74\n",
      "Число найденных дубликатов по id: 3820\n"
     ]
    }
   ],
   "source": [
    "# проверим на пропуски и посмотрим структуру\n",
    "data.info()\n",
    "\n",
    "# проверим на полные дубликаты\n",
    "mask = data.duplicated() # Создадим маску дубликатов с помощью метода duplicated() в которой True помечены дубликаты, а False — уникальные записи\n",
    "duplicates = data[mask]\n",
    "print(f'Число найденных полных дубликатов: {duplicates.shape[0]}')\n",
    "# удалим дубликаты\n",
    "data = data.drop_duplicates()\n",
    "\n",
    "# проверим на дубликаты по id\n",
    "mask = data.duplicated(subset='user_id') # Создадим маску дубликатов с помощью метода duplicated() в которой True помечены дубликаты, а False — уникальные записи\n",
    "duplicates = data[mask]\n",
    "print(f'Число найденных дубликатов по id: {duplicates.shape[0]}')\n"
   ]
  },
  {
   "attachments": {},
   "cell_type": "markdown",
   "metadata": {},
   "source": [
    "Пропусков нет\n",
    "\n",
    "Найдено 74 полных дубликата, т.е. по сути строк, которые просто записали более одного раза. В этом случае просто удаляем строки-дубликаты\n",
    "\n",
    "Найдено также 3820 пользователя, которые прошли тестирование более одного раза. Прошли они в рамках одной группы или разных - не так важно, потому что они уже внесут погрешность в анализ. Поэтому исключим всех пользователей, прошедших интервью более одного раза, из обеих групп"
   ]
  },
  {
   "cell_type": "code",
   "execution_count": 118,
   "metadata": {},
   "outputs": [],
   "source": [
    "# создадим список с повторяющимися id, чтобы исключить их в обоих экзеплярах\n",
    "duplicates_list = list(duplicates['user_id'])\n",
    "# \n",
    "data = data[~data['user_id'].isin(duplicates_list)]"
   ]
  },
  {
   "attachments": {},
   "cell_type": "markdown",
   "metadata": {},
   "source": [
    "Теперь удалены 7640 наблюдений, соответствующие людям, учавствующий в тестировании более одного раза."
   ]
  },
  {
   "cell_type": "code",
   "execution_count": 119,
   "metadata": {},
   "outputs": [
    {
     "data": {
      "text/html": [
       "<div>\n",
       "<style scoped>\n",
       "    .dataframe tbody tr th:only-of-type {\n",
       "        vertical-align: middle;\n",
       "    }\n",
       "\n",
       "    .dataframe tbody tr th {\n",
       "        vertical-align: top;\n",
       "    }\n",
       "\n",
       "    .dataframe thead th {\n",
       "        text-align: right;\n",
       "    }\n",
       "</style>\n",
       "<table border=\"1\" class=\"dataframe\">\n",
       "  <thead>\n",
       "    <tr style=\"text-align: right;\">\n",
       "      <th></th>\n",
       "      <th>date</th>\n",
       "      <th>group</th>\n",
       "      <th>users_count</th>\n",
       "      <th>purchase_count</th>\n",
       "      <th>sum_revenue</th>\n",
       "    </tr>\n",
       "  </thead>\n",
       "  <tbody>\n",
       "    <tr>\n",
       "      <th>0</th>\n",
       "      <td>2021-01-02</td>\n",
       "      <td>A</td>\n",
       "      <td>2813</td>\n",
       "      <td>354</td>\n",
       "      <td>29170000</td>\n",
       "    </tr>\n",
       "    <tr>\n",
       "      <th>1</th>\n",
       "      <td>2021-01-02</td>\n",
       "      <td>B</td>\n",
       "      <td>2818</td>\n",
       "      <td>336</td>\n",
       "      <td>29050000</td>\n",
       "    </tr>\n",
       "    <tr>\n",
       "      <th>2</th>\n",
       "      <td>2021-01-03</td>\n",
       "      <td>A</td>\n",
       "      <td>6495</td>\n",
       "      <td>738</td>\n",
       "      <td>61420000</td>\n",
       "    </tr>\n",
       "    <tr>\n",
       "      <th>3</th>\n",
       "      <td>2021-01-03</td>\n",
       "      <td>B</td>\n",
       "      <td>6531</td>\n",
       "      <td>745</td>\n",
       "      <td>65030000</td>\n",
       "    </tr>\n",
       "    <tr>\n",
       "      <th>4</th>\n",
       "      <td>2021-01-04</td>\n",
       "      <td>A</td>\n",
       "      <td>6483</td>\n",
       "      <td>787</td>\n",
       "      <td>63050000</td>\n",
       "    </tr>\n",
       "    <tr>\n",
       "      <th>5</th>\n",
       "      <td>2021-01-04</td>\n",
       "      <td>B</td>\n",
       "      <td>6450</td>\n",
       "      <td>753</td>\n",
       "      <td>67050000</td>\n",
       "    </tr>\n",
       "    <tr>\n",
       "      <th>6</th>\n",
       "      <td>2021-01-05</td>\n",
       "      <td>A</td>\n",
       "      <td>6332</td>\n",
       "      <td>780</td>\n",
       "      <td>63460000</td>\n",
       "    </tr>\n",
       "    <tr>\n",
       "      <th>7</th>\n",
       "      <td>2021-01-05</td>\n",
       "      <td>B</td>\n",
       "      <td>6420</td>\n",
       "      <td>734</td>\n",
       "      <td>62150000</td>\n",
       "    </tr>\n",
       "  </tbody>\n",
       "</table>\n",
       "</div>"
      ],
      "text/plain": [
       "        date group  users_count  purchase_count  sum_revenue\n",
       "0 2021-01-02     A         2813             354     29170000\n",
       "1 2021-01-02     B         2818             336     29050000\n",
       "2 2021-01-03     A         6495             738     61420000\n",
       "3 2021-01-03     B         6531             745     65030000\n",
       "4 2021-01-04     A         6483             787     63050000\n",
       "5 2021-01-04     B         6450             753     67050000\n",
       "6 2021-01-05     A         6332             780     63460000\n",
       "7 2021-01-05     B         6420             734     62150000"
      ]
     },
     "execution_count": 119,
     "metadata": {},
     "output_type": "execute_result"
    }
   ],
   "source": [
    "# переведем дату в формат datetime\n",
    "data['date'] = pd.to_datetime(data['date'], format='%Y-%m-%d')\n",
    "\n",
    "# проверим, что тестирование в обеих группах проводилось в одно и то же время, и сразу сделаем группировку по дням\n",
    "daily_data = data.groupby(['date','group']).agg({\n",
    "    'user_id':'count',\n",
    "    'purchase':'sum',\n",
    "    'price':'sum'\n",
    "}).reset_index().rename(columns={'user_id': 'users_count', 'purchase':'purchase_count', 'price':'sum_revenue'})\n",
    "daily_data.head(8)\n"
   ]
  },
  {
   "attachments": {},
   "cell_type": "markdown",
   "metadata": {},
   "source": [
    "Видим, что обе группы тестировались в одни и те же дни и количество в каждом дне соизмеримое между группами"
   ]
  },
  {
   "attachments": {},
   "cell_type": "markdown",
   "metadata": {},
   "source": [
    "## 2. Расчет ключевых метрик для АВ-тестов\n",
    "\n",
    "- Рассчитайем вспомогательные показатели для контрольной и тестовой групп:\n",
    "\n",
    "    - количество посещений сайта;\n",
    "    - суммарное количество совершённых покупок;\n",
    "    - сумма всех покупок.\n",
    "\n",
    "Сделаем промежуточные выводы по построенной таблице: сопоставимо ли количество посещений обоих вариантов посадочной страницы и можно ли говорить о сбалансированности выборок\n",
    "\n",
    "- В каждой из групп рассчитаем ключевые показатели:\n",
    "\n",
    "    - конверсия;\n",
    "    - средний чек.\n"
   ]
  },
  {
   "cell_type": "code",
   "execution_count": 120,
   "metadata": {},
   "outputs": [
    {
     "data": {
      "text/html": [
       "<div>\n",
       "<style scoped>\n",
       "    .dataframe tbody tr th:only-of-type {\n",
       "        vertical-align: middle;\n",
       "    }\n",
       "\n",
       "    .dataframe tbody tr th {\n",
       "        vertical-align: top;\n",
       "    }\n",
       "\n",
       "    .dataframe thead th {\n",
       "        text-align: right;\n",
       "    }\n",
       "</style>\n",
       "<table border=\"1\" class=\"dataframe\">\n",
       "  <thead>\n",
       "    <tr style=\"text-align: right;\">\n",
       "      <th></th>\n",
       "      <th>users_count</th>\n",
       "      <th>purchase_count</th>\n",
       "      <th>sum_revenue</th>\n",
       "    </tr>\n",
       "    <tr>\n",
       "      <th>group</th>\n",
       "      <th></th>\n",
       "      <th></th>\n",
       "      <th></th>\n",
       "    </tr>\n",
       "  </thead>\n",
       "  <tbody>\n",
       "    <tr>\n",
       "      <th>A</th>\n",
       "      <td>143332</td>\n",
       "      <td>17220</td>\n",
       "      <td>1396120000</td>\n",
       "    </tr>\n",
       "    <tr>\n",
       "      <th>B</th>\n",
       "      <td>143432</td>\n",
       "      <td>17025</td>\n",
       "      <td>1510100000</td>\n",
       "    </tr>\n",
       "  </tbody>\n",
       "</table>\n",
       "</div>"
      ],
      "text/plain": [
       "       users_count  purchase_count  sum_revenue\n",
       "group                                          \n",
       "A           143332           17220   1396120000\n",
       "B           143432           17025   1510100000"
      ]
     },
     "execution_count": 120,
     "metadata": {},
     "output_type": "execute_result"
    }
   ],
   "source": [
    "# посчитаем вспомогательные показатели для контрольной и тестовой групп\n",
    "add_data = daily_data.groupby('group')[['users_count', 'purchase_count', 'sum_revenue']].sum()\n",
    "add_data"
   ]
  },
  {
   "attachments": {},
   "cell_type": "markdown",
   "metadata": {},
   "source": [
    "Можно заметить, что все показатели в обеих выборках сопоставимы, что говорит о хорошо сбалансированных данных. Интересно, что при примерно равном количестве посещений в выборке A - больше покупок, а в выборке B - выше суммарный чек, т.е. покупались более дорогие туры"
   ]
  },
  {
   "cell_type": "code",
   "execution_count": null,
   "metadata": {},
   "outputs": [],
   "source": [
    "# Посчитаем конверсию и средний чек\n",
    "daily_data['conversion(%)'] = round(daily_data['purchase_count']/daily_data['users_count']*100, 2)\n",
    "daily_data['av_bill(RUB)'] = round(daily_data['sum_revenue']/daily_data['purchase_count'], 2)"
   ]
  },
  {
   "cell_type": "markdown",
   "metadata": {},
   "source": [
    "## 3. Предварительные результаты\n",
    "\n",
    "Сделаем первичные выводы о результатах A/B-тестирования на основе показателей конверсии и среднего чека в каждой из групп:\n",
    "\n",
    "- По какому(-им) показателю(-ям), на первый взгляд, вариант А эффективнее варианта B и наоборот\n",
    "- Сравним варианты A/B по покупательской способности каждого из туров. \n",
    "- По каким турам покупательская способность участников группы А выше, чем покупательская способность участников группы B, и наоборот"
   ]
  },
  {
   "cell_type": "code",
   "execution_count": 121,
   "metadata": {},
   "outputs": [
    {
     "data": {
      "text/html": [
       "<div>\n",
       "<style scoped>\n",
       "    .dataframe tbody tr th:only-of-type {\n",
       "        vertical-align: middle;\n",
       "    }\n",
       "\n",
       "    .dataframe tbody tr th {\n",
       "        vertical-align: top;\n",
       "    }\n",
       "\n",
       "    .dataframe thead tr th {\n",
       "        text-align: left;\n",
       "    }\n",
       "\n",
       "    .dataframe thead tr:last-of-type th {\n",
       "        text-align: right;\n",
       "    }\n",
       "</style>\n",
       "<table border=\"1\" class=\"dataframe\">\n",
       "  <thead>\n",
       "    <tr>\n",
       "      <th></th>\n",
       "      <th colspan=\"2\" halign=\"left\">conversion(%)</th>\n",
       "      <th colspan=\"2\" halign=\"left\">av_bill(RUB)</th>\n",
       "    </tr>\n",
       "    <tr>\n",
       "      <th></th>\n",
       "      <th>mean</th>\n",
       "      <th>median</th>\n",
       "      <th>mean</th>\n",
       "      <th>median</th>\n",
       "    </tr>\n",
       "    <tr>\n",
       "      <th>group</th>\n",
       "      <th></th>\n",
       "      <th></th>\n",
       "      <th></th>\n",
       "      <th></th>\n",
       "    </tr>\n",
       "  </thead>\n",
       "  <tbody>\n",
       "    <tr>\n",
       "      <th>A</th>\n",
       "      <td>12.02</td>\n",
       "      <td>12.02</td>\n",
       "      <td>80982.59</td>\n",
       "      <td>81462.80</td>\n",
       "    </tr>\n",
       "    <tr>\n",
       "      <th>B</th>\n",
       "      <td>11.87</td>\n",
       "      <td>11.84</td>\n",
       "      <td>88620.99</td>\n",
       "      <td>87881.04</td>\n",
       "    </tr>\n",
       "  </tbody>\n",
       "</table>\n",
       "</div>"
      ],
      "text/plain": [
       "      conversion(%)        av_bill(RUB)          \n",
       "               mean median         mean    median\n",
       "group                                            \n",
       "A             12.02  12.02     80982.59  81462.80\n",
       "B             11.87  11.84     88620.99  87881.04"
      ]
     },
     "metadata": {},
     "output_type": "display_data"
    }
   ],
   "source": [
    "# группируем для выводов\n",
    "conversion_piv = daily_data.groupby('group')[['conversion(%)', 'av_bill(RUB)']].agg(\n",
    "    ['mean', 'median']\n",
    ").round(2)\n",
    "display(conversion_piv)"
   ]
  },
  {
   "attachments": {},
   "cell_type": "markdown",
   "metadata": {},
   "source": [
    "Можно сделать предварительный вывод, что конверсия в первой группе выше, но средний чек - во второй. В целом вывод повторяет заключение предыдущего блока."
   ]
  },
  {
   "cell_type": "code",
   "execution_count": 122,
   "metadata": {},
   "outputs": [
    {
     "data": {
      "text/plain": [
       "Text(0.5, 0, 'Country')"
      ]
     },
     "execution_count": 122,
     "metadata": {},
     "output_type": "execute_result"
    },
    {
     "data": {
      "image/png": "[encoded data removed]",
      "text/plain": [
       "<Figure size 640x480 with 1 Axes>"
      ]
     },
     "metadata": {},
     "output_type": "display_data"
    }
   ],
   "source": [
    "# делим на группы по городам и визуализируем данные\n",
    "ax = sns.countplot(data=data[-(data.price == 0)], x='price', hue='group') # искоючим столбец с нулями, иначе он не дает нормально посмотреть купленные туры\n",
    "# переименуем в соответствии с названиями\n",
    "ax.set_xticklabels(['Санкт-Петербург', 'Турция', 'Таиланд', 'Камчатка', 'Мальдивы'])\n",
    "ax.set_xlabel('Country')"
   ]
  },
  {
   "attachments": {},
   "cell_type": "markdown",
   "metadata": {},
   "source": [
    "Туры идут в порядке возрастания цены и можно заметить, что в группе A больше покупали туры в Турцию, которая дешевле, чем Тайланд, которому отдавали предпочтение клиенты второй группы. Значит в группе B смогли продать более дорогие туры."
   ]
  },
  {
   "attachments": {},
   "cell_type": "markdown",
   "metadata": {},
   "source": [
    "## 4. Проверка стабилизации метрик \n",
    "\n",
    "- Сгруппируем данные по дате и группе тестирования и постройте таблицу с ежедневными данными результатов проведения A/B-тестирования. В каждой группе вычислим ежедневные показатели:\n",
    "\n",
    "    - количество посещений страницы;\n",
    "    - количество покупок;\n",
    "    - сумму покупок.\n",
    "\n",
    "Добавим в таблицу информацию о ежедневной конверсии (ежедневное количество покупок / ежедневное количество посещений) в группе и о ежедневном среднем чеке (ежедневная сумма покупок / ежедневное количество покупок).\n",
    "\n",
    "- Рассчитаем кумулятивные показатели:\n",
    "\n",
    "    - кумулятивное количество посещений страницы;   \n",
    "    - кумулятивное количество покупок;\n",
    "    - кумулятивную сумму покупок.\n",
    "\n",
    "- На основе полученных кумулятивных показателей вычислим кумулятивную конверсию и кумулятивный средний чек.\n",
    "\n",
    "- Построим кумулятивные графики конверсии и среднего чека в каждой группе по дням."
   ]
  },
  {
   "cell_type": "code",
   "execution_count": 123,
   "metadata": {},
   "outputs": [
    {
     "data": {
      "text/html": [
       "<div>\n",
       "<style scoped>\n",
       "    .dataframe tbody tr th:only-of-type {\n",
       "        vertical-align: middle;\n",
       "    }\n",
       "\n",
       "    .dataframe tbody tr th {\n",
       "        vertical-align: top;\n",
       "    }\n",
       "\n",
       "    .dataframe thead th {\n",
       "        text-align: right;\n",
       "    }\n",
       "</style>\n",
       "<table border=\"1\" class=\"dataframe\">\n",
       "  <thead>\n",
       "    <tr style=\"text-align: right;\">\n",
       "      <th></th>\n",
       "      <th>date</th>\n",
       "      <th>group</th>\n",
       "      <th>users_count</th>\n",
       "      <th>purchase_count</th>\n",
       "      <th>sum_revenue</th>\n",
       "      <th>conversion(%)</th>\n",
       "      <th>av_bill(RUB)</th>\n",
       "      <th>cum_users_count</th>\n",
       "      <th>cum_purchase</th>\n",
       "      <th>cum_revenue</th>\n",
       "      <th>cum_conversion</th>\n",
       "      <th>cum_bill</th>\n",
       "    </tr>\n",
       "  </thead>\n",
       "  <tbody>\n",
       "    <tr>\n",
       "      <th>0</th>\n",
       "      <td>2021-01-02</td>\n",
       "      <td>A</td>\n",
       "      <td>2813</td>\n",
       "      <td>354</td>\n",
       "      <td>29170000</td>\n",
       "      <td>12.58</td>\n",
       "      <td>82401.13</td>\n",
       "      <td>2813</td>\n",
       "      <td>354</td>\n",
       "      <td>29170000</td>\n",
       "      <td>12.58</td>\n",
       "      <td>82401.13</td>\n",
       "    </tr>\n",
       "    <tr>\n",
       "      <th>1</th>\n",
       "      <td>2021-01-02</td>\n",
       "      <td>B</td>\n",
       "      <td>2818</td>\n",
       "      <td>336</td>\n",
       "      <td>29050000</td>\n",
       "      <td>11.92</td>\n",
       "      <td>86458.33</td>\n",
       "      <td>2818</td>\n",
       "      <td>336</td>\n",
       "      <td>29050000</td>\n",
       "      <td>11.92</td>\n",
       "      <td>86458.33</td>\n",
       "    </tr>\n",
       "    <tr>\n",
       "      <th>2</th>\n",
       "      <td>2021-01-03</td>\n",
       "      <td>A</td>\n",
       "      <td>6495</td>\n",
       "      <td>738</td>\n",
       "      <td>61420000</td>\n",
       "      <td>11.36</td>\n",
       "      <td>83224.93</td>\n",
       "      <td>9308</td>\n",
       "      <td>1092</td>\n",
       "      <td>90590000</td>\n",
       "      <td>11.73</td>\n",
       "      <td>82957.88</td>\n",
       "    </tr>\n",
       "    <tr>\n",
       "      <th>3</th>\n",
       "      <td>2021-01-03</td>\n",
       "      <td>B</td>\n",
       "      <td>6531</td>\n",
       "      <td>745</td>\n",
       "      <td>65030000</td>\n",
       "      <td>11.41</td>\n",
       "      <td>87288.59</td>\n",
       "      <td>9349</td>\n",
       "      <td>1081</td>\n",
       "      <td>94080000</td>\n",
       "      <td>11.56</td>\n",
       "      <td>87030.53</td>\n",
       "    </tr>\n",
       "    <tr>\n",
       "      <th>4</th>\n",
       "      <td>2021-01-04</td>\n",
       "      <td>A</td>\n",
       "      <td>6483</td>\n",
       "      <td>787</td>\n",
       "      <td>63050000</td>\n",
       "      <td>12.14</td>\n",
       "      <td>80114.36</td>\n",
       "      <td>15791</td>\n",
       "      <td>1879</td>\n",
       "      <td>153640000</td>\n",
       "      <td>11.90</td>\n",
       "      <td>81766.90</td>\n",
       "    </tr>\n",
       "    <tr>\n",
       "      <th>5</th>\n",
       "      <td>2021-01-04</td>\n",
       "      <td>B</td>\n",
       "      <td>6450</td>\n",
       "      <td>753</td>\n",
       "      <td>67050000</td>\n",
       "      <td>11.67</td>\n",
       "      <td>89043.82</td>\n",
       "      <td>15799</td>\n",
       "      <td>1834</td>\n",
       "      <td>161130000</td>\n",
       "      <td>11.61</td>\n",
       "      <td>87857.14</td>\n",
       "    </tr>\n",
       "    <tr>\n",
       "      <th>6</th>\n",
       "      <td>2021-01-05</td>\n",
       "      <td>A</td>\n",
       "      <td>6332</td>\n",
       "      <td>780</td>\n",
       "      <td>63460000</td>\n",
       "      <td>12.32</td>\n",
       "      <td>81358.97</td>\n",
       "      <td>22123</td>\n",
       "      <td>2659</td>\n",
       "      <td>217100000</td>\n",
       "      <td>12.02</td>\n",
       "      <td>81647.24</td>\n",
       "    </tr>\n",
       "    <tr>\n",
       "      <th>7</th>\n",
       "      <td>2021-01-05</td>\n",
       "      <td>B</td>\n",
       "      <td>6420</td>\n",
       "      <td>734</td>\n",
       "      <td>62150000</td>\n",
       "      <td>11.43</td>\n",
       "      <td>84673.02</td>\n",
       "      <td>22219</td>\n",
       "      <td>2568</td>\n",
       "      <td>223280000</td>\n",
       "      <td>11.56</td>\n",
       "      <td>86947.04</td>\n",
       "    </tr>\n",
       "  </tbody>\n",
       "</table>\n",
       "</div>"
      ],
      "text/plain": [
       "        date group  users_count  purchase_count  sum_revenue  conversion(%)   \n",
       "0 2021-01-02     A         2813             354     29170000          12.58  \\\n",
       "1 2021-01-02     B         2818             336     29050000          11.92   \n",
       "2 2021-01-03     A         6495             738     61420000          11.36   \n",
       "3 2021-01-03     B         6531             745     65030000          11.41   \n",
       "4 2021-01-04     A         6483             787     63050000          12.14   \n",
       "5 2021-01-04     B         6450             753     67050000          11.67   \n",
       "6 2021-01-05     A         6332             780     63460000          12.32   \n",
       "7 2021-01-05     B         6420             734     62150000          11.43   \n",
       "\n",
       "   av_bill(RUB)  cum_users_count  cum_purchase  cum_revenue  cum_conversion   \n",
       "0      82401.13             2813           354     29170000           12.58  \\\n",
       "1      86458.33             2818           336     29050000           11.92   \n",
       "2      83224.93             9308          1092     90590000           11.73   \n",
       "3      87288.59             9349          1081     94080000           11.56   \n",
       "4      80114.36            15791          1879    153640000           11.90   \n",
       "5      89043.82            15799          1834    161130000           11.61   \n",
       "6      81358.97            22123          2659    217100000           12.02   \n",
       "7      84673.02            22219          2568    223280000           11.56   \n",
       "\n",
       "   cum_bill  \n",
       "0  82401.13  \n",
       "1  86458.33  \n",
       "2  82957.88  \n",
       "3  87030.53  \n",
       "4  81766.90  \n",
       "5  87857.14  \n",
       "6  81647.24  \n",
       "7  86947.04  "
      ]
     },
     "metadata": {},
     "output_type": "display_data"
    }
   ],
   "source": [
    "# вычисляем кумулятивную сумму количества посетителей\n",
    "daily_data['cum_users_count'] = daily_data.groupby(['group'])['users_count'].cumsum() # считаем кумулятивную сумму согласно столбцу grpoup, т.е. A\\B, а суммируем собственно столбец user_count\n",
    "# вычисляем кумулятивную сумму количества совершённых целевых действий\n",
    "daily_data['cum_purchase'] = daily_data.groupby(['group'])['purchase_count'].cumsum()\n",
    "daily_data['cum_revenue'] = daily_data.groupby(['group'])['sum_revenue'].cumsum()\n",
    "# вычисляем кумулятивную конверсию\n",
    "daily_data['cum_conversion'] = round(daily_data['cum_purchase']/daily_data['cum_users_count'] * 100, 2)\n",
    "daily_data['cum_bill'] = round(daily_data['cum_revenue']/daily_data['cum_purchase'], 2)\n",
    "display(daily_data.head(8))"
   ]
  },
  {
   "cell_type": "code",
   "execution_count": 124,
   "metadata": {},
   "outputs": [
    {
     "data": {
      "image/png": "[encoded data removed]",
      "text/plain": [
       "<Figure size 1000x400 with 2 Axes>"
      ]
     },
     "metadata": {},
     "output_type": "display_data"
    }
   ],
   "source": [
    "# Визуализируем куммулятивные метрики\n",
    "\n",
    "# создаём фигуру размером 8x4\n",
    "fig, axes = plt.subplots(1, 2, figsize=(10, 4))\n",
    "sns.lineplot(x='date', y='cum_conversion', data=daily_data, hue='group', ax=axes[0])\n",
    "sns.lineplot(x='date', y='cum_bill', data=daily_data, hue='group', ax=axes[1])\n",
    "axes[0].set_title('График кумулятивной конверсии по дням')\n",
    "axes[1].set_title('График кумулятивного чека по дням')\n",
    "plt.tight_layout() #выравнивание графиков\n",
    "fig.autofmt_xdate() # автовыравнивание подписей\n"
   ]
  },
  {
   "attachments": {},
   "cell_type": "markdown",
   "metadata": {},
   "source": [
    "Можно сделать вывод, что где-то с 13ого числа метрики стабилизировались. Конверсия-A в целом держалась выше конверсии-В за исключением нескольких дней в середине, когда они сближались. Потом метрики стабилизировались, но разница между ними может оказаться незначительной. Средний чек В стабильно держится выше среднего чека группы А и со временем эта разница стала еще более явной"
   ]
  },
  {
   "attachments": {},
   "cell_type": "markdown",
   "metadata": {},
   "source": [
    "## 5. Статистический анализ результатов A/B-тестирования\n",
    "\n",
    "- Сформулируем статистические гипотезы, соответствующие поставленным бизнес-вопросам, и выберем статистический тест для их проверки.\n",
    "\n",
    "- С помощью аппарата статистических тестов определим:\n",
    "\n",
    "    - Есть ли статистическая разница между конверсиями в группах А и B?\n",
    "    - Есть ли статистическая разница между ежедневными средними чеками в группах А и B?\n",
    "\n",
    "- Подкрепим результаты статистических тестов, построив 95 % доверительные интервалы для:\n",
    "\n",
    "    - конверсий в каждой из групп;\n",
    "    - разницы конверсий в группах;\n",
    "    - ежедневного среднего чека в каждой из групп."
   ]
  },
  {
   "attachments": {},
   "cell_type": "markdown",
   "metadata": {},
   "source": [
    "Сформируем двусторонние гипотезы:\n",
    "\n",
    "Н0: Конверсия группы A статистически равна конверсии группы В \\\n",
    "Н1: Конверсии в двух группах отличаются\n",
    "\n",
    "Н0: Средний чек группы A статистически равен среднему чеку группы В \\\n",
    "Н1: Средние чеки в двух группах отличаются\n",
    "\n",
    "По ходу исследование по мере необходимости можно будет проверить и одновсторонние\n"
   ]
  },
  {
   "attachments": {},
   "cell_type": "markdown",
   "metadata": {},
   "source": [
    "**Для конверсии будем использовать тест ХИ-2 для пропорций, а для среднего чека - если распределение будет нормальным, то воспользуемся Т-тестом, если отличное от нормального то - Манна — Уитни (U-тест)**"
   ]
  },
  {
   "cell_type": "code",
   "execution_count": 149,
   "metadata": {},
   "outputs": [
    {
     "data": {
      "text/html": [
       "<div>\n",
       "<style scoped>\n",
       "    .dataframe tbody tr th:only-of-type {\n",
       "        vertical-align: middle;\n",
       "    }\n",
       "\n",
       "    .dataframe tbody tr th {\n",
       "        vertical-align: top;\n",
       "    }\n",
       "\n",
       "    .dataframe thead th {\n",
       "        text-align: right;\n",
       "    }\n",
       "</style>\n",
       "<table border=\"1\" class=\"dataframe\">\n",
       "  <thead>\n",
       "    <tr style=\"text-align: right;\">\n",
       "      <th></th>\n",
       "      <th>sum</th>\n",
       "      <th>count</th>\n",
       "    </tr>\n",
       "    <tr>\n",
       "      <th>group</th>\n",
       "      <th></th>\n",
       "      <th></th>\n",
       "    </tr>\n",
       "  </thead>\n",
       "  <tbody>\n",
       "    <tr>\n",
       "      <th>A</th>\n",
       "      <td>17220</td>\n",
       "      <td>143332</td>\n",
       "    </tr>\n",
       "    <tr>\n",
       "      <th>B</th>\n",
       "      <td>17025</td>\n",
       "      <td>143432</td>\n",
       "    </tr>\n",
       "  </tbody>\n",
       "</table>\n",
       "</div>"
      ],
      "text/plain": [
       "         sum   count\n",
       "group               \n",
       "A      17220  143332\n",
       "B      17025  143432"
      ]
     },
     "metadata": {},
     "output_type": "display_data"
    },
    {
     "name": "stdout",
     "output_type": "stream",
     "text": [
      "p-value:  0.233\n",
      "У нас нет оснований отвергнуть нулевую гипотезу\n"
     ]
    }
   ],
   "source": [
    "# начнем с конверсии, проведем тест хи-2 для пропорции - сначала посчитаем число успехов и наблюдений по покупкам туров\n",
    "converted_piv= data.groupby('group')['purchase'].agg(\n",
    "    ['sum', 'count']\n",
    ")\n",
    "display(converted_piv)\n",
    "\n",
    "from statsmodels.stats.proportion import proportions_chisquare\n",
    "\n",
    "alpha = 0.05 # уровень значимости\n",
    "# вычисляем значение p-value для Z-теста для пропорций\n",
    "_, p_value, c = proportions_chisquare(\n",
    "    count=converted_piv['sum'], #число «успехов»\n",
    "    nobs=converted_piv['count'] #общее число наблюдений\n",
    ")\n",
    "# выводим результат на экран\n",
    "print('p-value: ', round(p_value, 3))\n",
    "# сравниваем полученное p-value с уровнем значимости\n",
    "if (p_value <= alpha):\n",
    "    print(\"Отвергаем нулевую гипотезу в пользу альтернативной\")\n",
    "else:\n",
    "    print(\"У нас нет оснований отвергнуть нулевую гипотезу\")"
   ]
  },
  {
   "attachments": {},
   "cell_type": "markdown",
   "metadata": {},
   "source": [
    "У нас нет оснований полагать, что конверсия как-то статистически значимо отличается у двух групп. Теперь что по чекам"
   ]
  },
  {
   "cell_type": "code",
   "execution_count": 142,
   "metadata": {},
   "outputs": [
    {
     "data": {
      "image/png": "[encoded data removed]",
      "text/plain": [
       "<Figure size 1000x300 with 2 Axes>"
      ]
     },
     "metadata": {},
     "output_type": "display_data"
    }
   ],
   "source": [
    "# посмотрим на распределения среднего чека по группам\n",
    "fig, axes = plt.subplots(1, 2, figsize=(10, 3))\n",
    "# строим гистограмму для времени на сайте в каждой группе\n",
    "sns.histplot(data=daily_data.loc[daily_data['group']=='A', 'av_bill(RUB)'], ax=axes[0])\n",
    "sns.histplot(data=daily_data.loc[daily_data['group']=='B', 'av_bill(RUB)'], ax=axes[1])\n",
    "# задаём названия графикам\n",
    "axes[0].set_title('Распределение среднего чека в группе А');\n",
    "axes[1].set_title('Распределение среднего чека в группе B');"
   ]
  },
  {
   "cell_type": "markdown",
   "metadata": {},
   "source": [
    "Примечание: данные для графиков из начальных данных до преобразований"
   ]
  },
  {
   "cell_type": "code",
   "execution_count": 143,
   "metadata": {},
   "outputs": [
    {
     "name": "stdout",
     "output_type": "stream",
     "text": [
      "Принимаем нулевую гипотезу. Распределение в группе А является нормальным\n",
      "Принимаем нулевую гипотезу. Распределение в группе B является нормальным\n"
     ]
    }
   ],
   "source": [
    "# проверим распределение среднего чека \n",
    "alpha = 0.05 # уровень значимости\n",
    "# значения среднего чека\n",
    "av_bill_A = shapiro(daily_data.loc[daily_data['group']=='A', 'av_bill(RUB)'])\n",
    "av_bill_B = shapiro(daily_data.loc[daily_data['group']=='B', 'av_bill(RUB)'])\n",
    "\n",
    "# сравниваем полученное p-value для группы А с уровнем значимости\n",
    "if av_bill_A.pvalue <= alpha:\n",
    "    print(\"Отвергаем нулевую гипотезу в пользу альтернативной. Распределение в группе А отлично от нормального\")\n",
    "else:\n",
    "    print(\"Принимаем нулевую гипотезу. Распределение в группе А является нормальным\")\n",
    "\n",
    "# сравниваем полученное p-value для группы B с уровнем значимости\n",
    "if av_bill_B.pvalue <= alpha:\n",
    "    print(\"Отвергаем нулевую гипотезу в пользу альтернативной. Распределение в группе B отлично от нормального\")\n",
    "else:\n",
    "    print(\"Принимаем нулевую гипотезу. Распределение в группе B является нормальным\")\n"
   ]
  },
  {
   "attachments": {},
   "cell_type": "markdown",
   "metadata": {},
   "source": [
    "Распрделение нормальное, следовательно используем Т-тест"
   ]
  },
  {
   "cell_type": "code",
   "execution_count": 144,
   "metadata": {},
   "outputs": [
    {
     "name": "stdout",
     "output_type": "stream",
     "text": [
      "p-value: 0.0\n",
      "Отвергаем нулевую гипотезу в пользу альтернативной\n"
     ]
    }
   ],
   "source": [
    "from scipy.stats import ttest_ind\n",
    "\n",
    "# вычисляем результат T-теста для выборок\n",
    "results = ttest_ind(\n",
    "    a=daily_data.loc[daily_data['group']=='A', 'av_bill(RUB)'],\n",
    "    b=daily_data.loc[daily_data['group']=='B', 'av_bill(RUB)'],\n",
    "    alternative='two-sided'\n",
    ")\n",
    "print('p-value:', round(results.pvalue, 2))\n",
    "\n",
    "# сравниваем полученное p-value с уровнем значимости\n",
    "if results.pvalue <= alpha:\n",
    "    print(\"Отвергаем нулевую гипотезу в пользу альтернативной\")\n",
    "else:\n",
    "    print(\"У нас нет оснований отвергнуть нулевую гипотезу\")"
   ]
  },
  {
   "attachments": {},
   "cell_type": "markdown",
   "metadata": {},
   "source": [
    "Средние чеки очевидно не равны, тогда предположим, что чек в группе В выше, как было указано на графиках выше"
   ]
  },
  {
   "cell_type": "code",
   "execution_count": 148,
   "metadata": {},
   "outputs": [
    {
     "name": "stdout",
     "output_type": "stream",
     "text": [
      "p-value: 0.0\n",
      "Отвергаем нулевую гипотезу в пользу альтернативной\n"
     ]
    }
   ],
   "source": [
    "# вычисляем результат T-теста для выборок\n",
    "results = ttest_ind(\n",
    "    a=daily_data.loc[daily_data['group']=='A', 'av_bill(RUB)'],\n",
    "    b=daily_data.loc[daily_data['group']=='B', 'av_bill(RUB)'],\n",
    "    alternative='less'\n",
    ")\n",
    "print('p-value:', round(results.pvalue, 2))\n",
    "\n",
    "# сравниваем полученное p-value с уровнем значимости\n",
    "if results.pvalue <= alpha:\n",
    "    print(\"Отвергаем нулевую гипотезу в пользу альтернативной\")\n",
    "else:\n",
    "    print(\"У нас нет оснований отвергнуть нулевую гипотезу\")"
   ]
  },
  {
   "attachments": {},
   "cell_type": "markdown",
   "metadata": {},
   "source": [
    "Все верно, чек в группе B согласно точечным тестам статистически значимо превышает средний чек в группе А.\n",
    "\n",
    "**В итоге различие в конверсиях оказалось незначительным, но средний чек в тестовой группе явно оказался лучше.** Рассмотрим теперь интервальные оценки."
   ]
  },
  {
   "cell_type": "code",
   "execution_count": 150,
   "metadata": {},
   "outputs": [],
   "source": [
    "# посчитаем конверсию в обеих группах, воспользуемся фнукцией из юнита\n",
    "\n",
    "def proportion_conf_interval(x_p, n, gamma=0.95):  \n",
    "    alpha = 1 - gamma # уровень значимости\n",
    "    z_crit = -norm.ppf(alpha/2) # z-критическое\n",
    "    eps = z_crit * (x_p * (1 - x_p) / n) ** 0.5 # погрешность\n",
    "    lower_bound = x_p - eps # левая (нижняя) граница\n",
    "    upper_bound = x_p + eps # правая (верхняя) граница\n",
    "    # возвращаем кортеж из границ интервала\n",
    "    return lower_bound, upper_bound"
   ]
  },
  {
   "cell_type": "code",
   "execution_count": 151,
   "metadata": {},
   "outputs": [],
   "source": [
    "# фильтруем данные группы А\n",
    "a_data = data[data['group'] == 'A']\n",
    "# фильтруем данные группы B\n",
    "b_data = data[data['group'] == 'B']"
   ]
  },
  {
   "cell_type": "code",
   "execution_count": 152,
   "metadata": {},
   "outputs": [
    {
     "name": "stdout",
     "output_type": "stream",
     "text": [
      "Доверительный интервал для конверсии в группе А: (11.85, 12.18)\n",
      "Доверительный интервал для конверсии в группе B: (11.7, 12.04)\n"
     ]
    }
   ],
   "source": [
    "from scipy.stats import norm\n",
    "\n",
    "# строим доверительный интервал для конверсии в группе А\n",
    "lower_bound_a, upper_bound_a  = proportion_conf_interval(\n",
    "    x_p=a_data['purchase'].mean(), # выборочная пропорция\n",
    "    n=a_data['user_id'].count() # размер выборки\n",
    ")\n",
    "\n",
    "# строим доверительный интервал для конверсии в группе B\n",
    "lower_bound_b, upper_bound_b  = proportion_conf_interval(\n",
    "    x_p=b_data['purchase'].mean(), # выборочная пропорция\n",
    "    n=b_data['user_id'].count() # размер выборки\n",
    ")\n",
    "\n",
    "# выводим результат\n",
    "print('Доверительный интервал для конверсии в группе А: {}'.format((round(lower_bound_a * 100, 2), round(upper_bound_a * 100, 2))))\n",
    "print('Доверительный интервал для конверсии в группе B: {}'.format((round(lower_bound_b * 100, 2), round(upper_bound_b * 100, 2))))"
   ]
  },
  {
   "attachments": {},
   "cell_type": "markdown",
   "metadata": {},
   "source": [
    "Довольно большое пересечение, что в целом соответствует выводам по точечной оценке. Сделаем тест на разницу конверсии для того, чтобы убедиться"
   ]
  },
  {
   "cell_type": "code",
   "execution_count": 153,
   "metadata": {},
   "outputs": [],
   "source": [
    "def diff_proportion_conf_interval(x_p, n, gamma=0.95):\n",
    "    alpha = 1 - gamma # уровень значимости\n",
    "    diff = x_p[1] - x_p[0] # выборочная разница конверсий групп B и A\n",
    "    z_crit = -norm.ppf(alpha/2) #z-критическое\n",
    "    eps = z_crit * (x_p[0] * (1 - x_p[0])/n[0] + x_p[1] * (1 - x_p[1])/n[1]) ** 0.5 # погрешность\n",
    "    lower_bound = diff - eps # левая (нижняя) граница\n",
    "    upper_bound = diff + eps # правая (верхняя) граница\n",
    "    # возвращаем кортеж из  границ интервала\n",
    "    return lower_bound, upper_bound"
   ]
  },
  {
   "cell_type": "code",
   "execution_count": 154,
   "metadata": {},
   "outputs": [
    {
     "name": "stdout",
     "output_type": "stream",
     "text": [
      "Доверительный интервал для разности конверсий: (-0.38, 0.09)\n"
     ]
    }
   ],
   "source": [
    "# размеры выборок групп А и B\n",
    "n = [a_data['user_id'].count(), b_data['user_id'].count()]\n",
    "# выборочная пропорция групп A и B\n",
    "x_p = [a_data['purchase'].mean(), b_data['purchase'].mean()]\n",
    "\n",
    "# строим доверительный интервал для разности пропорций\n",
    "lower_bound, upper_bound = diff_proportion_conf_interval(x_p=x_p, n=n)\n",
    "\n",
    "# выводим результат\n",
    "print('Доверительный интервал для разности конверсий: {}'.format((round(lower_bound*100, 2), round(upper_bound*100, 2))))"
   ]
  },
  {
   "attachments": {},
   "cell_type": "markdown",
   "metadata": {},
   "source": [
    "Т.к. часть интервала отрицательная, а часть положительная, статистической разницы в конверсии между вариантами А и B не существует, то есть они являются равнозначными по данной метрике."
   ]
  },
  {
   "attachments": {},
   "cell_type": "markdown",
   "metadata": {},
   "source": [
    "Теперь построим доверительный интервал для среднего чека в каждой из групп. Для этого изначально разделим дневные данные на 2 группы"
   ]
  },
  {
   "cell_type": "code",
   "execution_count": 162,
   "metadata": {},
   "outputs": [
    {
     "data": {
      "text/plain": [
       "0     82401.13\n",
       "2     83224.93\n",
       "4     80114.36\n",
       "6     81358.97\n",
       "8     83280.00\n",
       "10    84320.51\n",
       "12    82089.17\n",
       "14    82846.15\n",
       "16    77725.44\n",
       "18    73621.13\n",
       "20    86066.41\n",
       "22    83231.79\n",
       "24    79643.73\n",
       "26    84065.24\n",
       "28    81462.80\n",
       "30    77860.70\n",
       "32    77213.11\n",
       "34    80576.18\n",
       "36    78092.02\n",
       "38    82353.64\n",
       "40    81277.42\n",
       "42    84546.54\n",
       "44    75228.31\n",
       "Name: av_bill(RUB), dtype: float64"
      ]
     },
     "execution_count": 162,
     "metadata": {},
     "output_type": "execute_result"
    }
   ],
   "source": [
    "daily_data_A = daily_data[daily_data['group']=='A']['av_bill(RUB)']\n",
    "daily_data_B = daily_data[daily_data['group']=='B']['av_bill(RUB)']\n",
    "daily_data_A"
   ]
  },
  {
   "attachments": {},
   "cell_type": "markdown",
   "metadata": {},
   "source": [
    "Считаем доверительный интервал для среднего чека группы А"
   ]
  },
  {
   "cell_type": "code",
   "execution_count": 174,
   "metadata": {},
   "outputs": [
    {
     "name": "stdout",
     "output_type": "stream",
     "text": [
      "2.0738730679040147\n",
      "Доверительный интервал среднего чека в группе А: (79626, 82339)\n"
     ]
    }
   ],
   "source": [
    "n = 23 # размер выборки\n",
    "k = n - 1 # число степеней свободы\n",
    "x_mean = daily_data_A.mean() # выборочное среднее\n",
    "x_std = daily_data_A.std() # выборочное стандартное отклонение\n",
    "gamma = 0.95 # уровень надёжности\n",
    "alpha = 1 - gamma # уровень значимости\n",
    "\n",
    "from scipy.stats import t\n",
    "t_crit = -t.ppf(alpha/2, k) # t-критическое\n",
    "print(t_crit)\n",
    "\n",
    "def t_mean_conf_interval(x_mean, x_std, n, gamma=0.95):  \n",
    "    alpha = 1 - gamma # уровень значимости\n",
    "    t_crit = -t.ppf(alpha/2, k) # t-критическое\n",
    "    eps = t_crit * x_std/(n ** 0.5) # погрешность\n",
    "    lower_bound = x_mean - eps # левая (нижняя) граница\n",
    "    upper_bound = x_mean + eps # правая (верхняя) граница\n",
    "    # возвращаем кортеж из границ интервала\n",
    "    return lower_bound, upper_bound\n",
    "\n",
    "# cтроим доверительный интервал для среднего при неизвестном СКО\n",
    "lower_bound, upper_bound = t_mean_conf_interval(x_mean, x_std, n, gamma)\n",
    "\n",
    "# выводим результат\n",
    "print('Доверительный интервал среднего чека в группе А: {}'.format((round(lower_bound), round(upper_bound))))"
   ]
  },
  {
   "cell_type": "code",
   "execution_count": 175,
   "metadata": {},
   "outputs": [
    {
     "name": "stdout",
     "output_type": "stream",
     "text": [
      "Доверительный интервал среднего чека в группе B: (87726, 89516)\n"
     ]
    }
   ],
   "source": [
    "x_mean = daily_data_B.mean() # выборочное среднее\n",
    "x_std = daily_data_B.std() # выборочное стандартное отклонение\n",
    "\n",
    "# cтроим доверительный интервал для среднего при неизвестном СКО\n",
    "lower_bound_B, upper_bound_B = t_mean_conf_interval(x_mean, x_std, n, gamma)\n",
    "\n",
    "# выводим результат\n",
    "print('Доверительный интервал среднего чека в группе B: {}'.format((round(lower_bound_B), round(upper_bound_B))))"
   ]
  },
  {
   "attachments": {},
   "cell_type": "markdown",
   "metadata": {},
   "source": [
    "Доверительные интервалы средних чеков в 2ух группах не пересекаются, отсюда можно сделать, что их различие статистически значимо"
   ]
  },
  {
   "attachments": {},
   "cell_type": "markdown",
   "metadata": {},
   "source": [
    "## 6. Вывод\n"
   ]
  },
  {
   "attachments": {},
   "cell_type": "markdown",
   "metadata": {},
   "source": [
    "Смена посадочной страницы на вариант В имеет смысл, если целью компании является увеличение среднего чека путем смещения фокуса с туров Турции на Тайланд. Такое изменение возможно, а разница в среднем чеке ощутима и статистически значима. Если цель - повышение конверсии, то изменение посадочной страницы не приведет к данному результаты, поскольку разница в конверсии статистически не значима как по точечным, так и по интервальным оценкам."
   ]
  }
 ],
 "metadata": {
  "kernelspec": {
   "display_name": "Python 3",
   "language": "python",
   "name": "python3"
  },
  "language_info": {
   "codemirror_mode": {
    "name": "ipython",
    "version": 3
   },
   "file_extension": ".py",
   "mimetype": "text/x-python",
   "name": "python",
   "nbconvert_exporter": "python",
   "pygments_lexer": "ipython3",
   "version": "3.10.11 (tags/v3.10.11:7d4cc5a, Apr  5 2023, 00:38:17) [MSC v.1929 64 bit (AMD64)]"
  },
  "orig_nbformat": 4,
  "vscode": {
   "interpreter": {
    "hash": "d7b6dd1b8f562c0e4615648c99a75a5290a295b6a01485ab11c624438b822122"
   }
  }
 },
 "nbformat": 4,
 "nbformat_minor": 2
}
