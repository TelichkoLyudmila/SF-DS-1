{
  "cells": [
    {
      "cell_type": "markdown",
      "metadata": {
        "id": "yMG_XPwziMUN"
      },
      "source": [
        "# <center> Практика. Статистические тесты в контексте EDA"
      ]
    },
    {
      "attachments": {},
      "cell_type": "markdown",
      "metadata": {
        "id": "EMd2vwh8ihnl"
      },
      "source": [
        "## Постановка задачи\n",
        "\n",
        "HR-агентство изучает тренды на рынке труда в IT. Компания хочет провести исследование на основе данных о зарплатах в сфере Data Science за 2020–2022 годы и получить некоторые выводы.\n",
        "\n",
        "### В процессе анализа вы должны ответить на ключевые вопросы HR-агентства:\n",
        "\n",
        "- Наблюдается ли ежегодный рост зарплат у специалистов Data Scientist?\n",
        "- Какие факторы влияют на зарплату у специалистов Data Scientist?\n",
        "- Как соотносятся зарплаты Data Scientist и Data Engineer в различных компаниях?\n",
        "- Есть ли связь между наличием должностей Data Scientist и Data Engineer и размером компании?\n",
        "\n",
        "Оригинальный датасет: “Data Science Job Salaries” (kaggle.com)\n",
        "\n",
        "Таблица:\n",
        "- work_year\tГод, в котором была выплачена зарплата.\n",
        "\n",
        "- experience_level\tОпыт работы на этой должности в течение года со следующими возможными значениями:\\\n",
        "EN — Entry-level/Junior;\\\n",
        "MI — Mid-level/Intermediate;\\\n",
        "SE — Senior-level/Expert;\\\n",
        "EX — Executive-level/Director.\n",
        "\n",
        "- employment_type\tТип трудоустройства для этой роли:\\\n",
        "PT — неполный рабочий день;\\\n",
        "FT — полный рабочий день;\\\n",
        "CT — контракт;\\\n",
        "FL — фриланс.\n",
        "\n",
        "- job_title\tРоль, в которой соискатель работал в течение года.\n",
        "\n",
        "- salary\tОбщая выплаченная валовая сумма заработной платы.\n",
        "\n",
        "- salary_currency\tВалюта выплачиваемой заработной платы в виде кода валюты ISO 4217.\n",
        "\n",
        "- salary_in_usd\tЗарплата в долларах США (валютный курс, делённый на среднее значение курса доллара США за соответствующий год через fxdata.foorilla.com).\n",
        "\n",
        "- employee_residence\tОсновная страна проживания сотрудника в течение рабочего года в виде кода страны ISO 3166.\n",
        "\n",
        "- remote_ratio\tОбщий объём работы, выполняемой удалённо. Возможные значения:\\\n",
        "0 — удалённой работы нет (менее 20 %);\\\n",
        "50 — частично удалённая работа;\\\n",
        "100 — полностью удалённая работа (более 80 %).\n",
        "\n",
        "- company_location\tСтрана главного офиса работодателя или филиала по контракту в виде кода страны ISO 3166.\n",
        "\n",
        "- company_size\tСреднее количество людей, работавших в компании в течение года:\\\n",
        "S — менее 50 сотрудников (небольшая компания);\\\n",
        "M — от 50 до 250 сотрудников (средняя компания);\\\n",
        "L — более 250 сотрудников (крупная компания)."
      ]
    },
    {
      "cell_type": "markdown",
      "metadata": {
        "id": "_XMyOg3cgcN1"
      },
      "source": [
        "## Загрузка данных"
      ]
    },
    {
      "cell_type": "code",
      "execution_count": 1,
      "metadata": {
        "id": "2JjaPf35gyCK"
      },
      "outputs": [],
      "source": [
        "# загружаем необходимые библиотеки\n",
        "import pandas as pd\n",
        "import numpy as np\n",
        "\n",
        "from scipy import stats\n",
        "import statsmodels.api as sm\n",
        "from statsmodels import stats as sms\n",
        "\n",
        "import matplotlib.pyplot as plt\n",
        "import seaborn as sns\n",
        "\n",
        "# делаем визуальную настройку графиков\n",
        "sns.set_theme(\"notebook\") \n",
        "sns.set_palette(\"Set2\") "
      ]
    },
    {
      "cell_type": "code",
      "execution_count": 2,
      "metadata": {
        "colab": {
          "base_uri": "https://localhost:8080/",
          "height": 206
        },
        "id": "ZPiI902dv11F",
        "outputId": "eccef1b9-a3cc-4144-a9df-a2a020abf30c"
      },
      "outputs": [
        {
          "data": {
            "text/html": [
              "<div>\n",
              "<style scoped>\n",
              "    .dataframe tbody tr th:only-of-type {\n",
              "        vertical-align: middle;\n",
              "    }\n",
              "\n",
              "    .dataframe tbody tr th {\n",
              "        vertical-align: top;\n",
              "    }\n",
              "\n",
              "    .dataframe thead th {\n",
              "        text-align: right;\n",
              "    }\n",
              "</style>\n",
              "<table border=\"1\" class=\"dataframe\">\n",
              "  <thead>\n",
              "    <tr style=\"text-align: right;\">\n",
              "      <th></th>\n",
              "      <th>Unnamed: 0</th>\n",
              "      <th>work_year</th>\n",
              "      <th>experience_level</th>\n",
              "      <th>employment_type</th>\n",
              "      <th>job_title</th>\n",
              "      <th>salary</th>\n",
              "      <th>salary_currency</th>\n",
              "      <th>salary_in_usd</th>\n",
              "      <th>employee_residence</th>\n",
              "      <th>remote_ratio</th>\n",
              "      <th>company_location</th>\n",
              "      <th>company_size</th>\n",
              "    </tr>\n",
              "  </thead>\n",
              "  <tbody>\n",
              "    <tr>\n",
              "      <th>0</th>\n",
              "      <td>0</td>\n",
              "      <td>2020</td>\n",
              "      <td>MI</td>\n",
              "      <td>FT</td>\n",
              "      <td>Data Scientist</td>\n",
              "      <td>70000</td>\n",
              "      <td>EUR</td>\n",
              "      <td>79833</td>\n",
              "      <td>DE</td>\n",
              "      <td>0</td>\n",
              "      <td>DE</td>\n",
              "      <td>L</td>\n",
              "    </tr>\n",
              "    <tr>\n",
              "      <th>1</th>\n",
              "      <td>1</td>\n",
              "      <td>2020</td>\n",
              "      <td>SE</td>\n",
              "      <td>FT</td>\n",
              "      <td>Machine Learning Scientist</td>\n",
              "      <td>260000</td>\n",
              "      <td>USD</td>\n",
              "      <td>260000</td>\n",
              "      <td>JP</td>\n",
              "      <td>0</td>\n",
              "      <td>JP</td>\n",
              "      <td>S</td>\n",
              "    </tr>\n",
              "    <tr>\n",
              "      <th>2</th>\n",
              "      <td>2</td>\n",
              "      <td>2020</td>\n",
              "      <td>SE</td>\n",
              "      <td>FT</td>\n",
              "      <td>Big Data Engineer</td>\n",
              "      <td>85000</td>\n",
              "      <td>GBP</td>\n",
              "      <td>109024</td>\n",
              "      <td>GB</td>\n",
              "      <td>50</td>\n",
              "      <td>GB</td>\n",
              "      <td>M</td>\n",
              "    </tr>\n",
              "    <tr>\n",
              "      <th>3</th>\n",
              "      <td>3</td>\n",
              "      <td>2020</td>\n",
              "      <td>MI</td>\n",
              "      <td>FT</td>\n",
              "      <td>Product Data Analyst</td>\n",
              "      <td>20000</td>\n",
              "      <td>USD</td>\n",
              "      <td>20000</td>\n",
              "      <td>HN</td>\n",
              "      <td>0</td>\n",
              "      <td>HN</td>\n",
              "      <td>S</td>\n",
              "    </tr>\n",
              "    <tr>\n",
              "      <th>4</th>\n",
              "      <td>4</td>\n",
              "      <td>2020</td>\n",
              "      <td>SE</td>\n",
              "      <td>FT</td>\n",
              "      <td>Machine Learning Engineer</td>\n",
              "      <td>150000</td>\n",
              "      <td>USD</td>\n",
              "      <td>150000</td>\n",
              "      <td>US</td>\n",
              "      <td>50</td>\n",
              "      <td>US</td>\n",
              "      <td>L</td>\n",
              "    </tr>\n",
              "  </tbody>\n",
              "</table>\n",
              "</div>"
            ],
            "text/plain": [
              "   Unnamed: 0  work_year experience_level employment_type  \\\n",
              "0           0       2020               MI              FT   \n",
              "1           1       2020               SE              FT   \n",
              "2           2       2020               SE              FT   \n",
              "3           3       2020               MI              FT   \n",
              "4           4       2020               SE              FT   \n",
              "\n",
              "                    job_title  salary salary_currency  salary_in_usd  \\\n",
              "0              Data Scientist   70000             EUR          79833   \n",
              "1  Machine Learning Scientist  260000             USD         260000   \n",
              "2           Big Data Engineer   85000             GBP         109024   \n",
              "3        Product Data Analyst   20000             USD          20000   \n",
              "4   Machine Learning Engineer  150000             USD         150000   \n",
              "\n",
              "  employee_residence  remote_ratio company_location company_size  \n",
              "0                 DE             0               DE            L  \n",
              "1                 JP             0               JP            S  \n",
              "2                 GB            50               GB            M  \n",
              "3                 HN             0               HN            S  \n",
              "4                 US            50               US            L  "
            ]
          },
          "execution_count": 2,
          "metadata": {},
          "output_type": "execute_result"
        }
      ],
      "source": [
        "# загружаем датасет\n",
        "data = pd.read_csv('data\\ds_salaries.csv')\n",
        "data.head()"
      ]
    },
    {
      "cell_type": "code",
      "execution_count": 3,
      "metadata": {
        "colab": {
          "base_uri": "https://localhost:8080/"
        },
        "id": "uLEEV6aLomOU",
        "outputId": "23314b21-aa3f-4537-94cb-be776d9427ae"
      },
      "outputs": [
        {
          "name": "stdout",
          "output_type": "stream",
          "text": [
            "Уровень значимости alpha = 0.05\n"
          ]
        }
      ],
      "source": [
        "# задаём уровень значимости\n",
        "alpha = 0.05 \n",
        "print(\"Уровень значимости alpha = {:.2f}\".format(alpha))"
      ]
    },
    {
      "cell_type": "markdown",
      "metadata": {
        "id": "c9QRWWOVfV13"
      },
      "source": [
        "## Описательный анализ данных"
      ]
    },
    {
      "cell_type": "code",
      "execution_count": 4,
      "metadata": {
        "colab": {
          "base_uri": "https://localhost:8080/"
        },
        "id": "zkiOmlAy2XQU",
        "outputId": "88adbac3-0fd7-460c-a368-c40baff97200"
      },
      "outputs": [
        {
          "name": "stdout",
          "output_type": "stream",
          "text": [
            "<class 'pandas.core.frame.DataFrame'>\n",
            "RangeIndex: 607 entries, 0 to 606\n",
            "Data columns (total 12 columns):\n",
            " #   Column              Non-Null Count  Dtype \n",
            "---  ------              --------------  ----- \n",
            " 0   Unnamed: 0          607 non-null    int64 \n",
            " 1   work_year           607 non-null    int64 \n",
            " 2   experience_level    607 non-null    object\n",
            " 3   employment_type     607 non-null    object\n",
            " 4   job_title           607 non-null    object\n",
            " 5   salary              607 non-null    int64 \n",
            " 6   salary_currency     607 non-null    object\n",
            " 7   salary_in_usd       607 non-null    int64 \n",
            " 8   employee_residence  607 non-null    object\n",
            " 9   remote_ratio        607 non-null    int64 \n",
            " 10  company_location    607 non-null    object\n",
            " 11  company_size        607 non-null    object\n",
            "dtypes: int64(5), object(7)\n",
            "memory usage: 57.0+ KB\n"
          ]
        }
      ],
      "source": [
        "data.info()"
      ]
    },
    {
      "attachments": {},
      "cell_type": "markdown",
      "metadata": {
        "id": "2DSvnZuul7Za"
      },
      "source": [
        "В датасете 607 записей (без пропущенных значений)."
      ]
    },
    {
      "cell_type": "markdown",
      "metadata": {
        "id": "Xug87trzl7Za"
      },
      "source": [
        "Проверим данные на наличие полных дубликатов:"
      ]
    },
    {
      "cell_type": "code",
      "execution_count": 5,
      "metadata": {
        "colab": {
          "base_uri": "https://localhost:8080/"
        },
        "id": "As_X7I6jl7Za",
        "outputId": "3d3795b3-ab7c-4cc6-ab3d-23a4796a7b5c"
      },
      "outputs": [
        {
          "name": "stdout",
          "output_type": "stream",
          "text": [
            "Количество дубликатов: 0\n"
          ]
        }
      ],
      "source": [
        "print('Количество дубликатов: {}'.format(data[data.duplicated()].shape[0]))"
      ]
    },
    {
      "attachments": {},
      "cell_type": "markdown",
      "metadata": {},
      "source": [
        "Дубликатов нет"
      ]
    },
    {
      "attachments": {},
      "cell_type": "markdown",
      "metadata": {
        "id": "6uAbyderTaNx"
      },
      "source": [
        "### Визуальный анализ \n",
        "Распределение страховых выплат по всем клиентам"
      ]
    },
    {
      "cell_type": "code",
      "execution_count": 6,
      "metadata": {
        "colab": {
          "base_uri": "https://localhost:8080/",
          "height": 496
        },
        "id": "KX6k6B2NWJ8t",
        "outputId": "523d571d-679e-4926-fe74-dc130c6a1b53"
      },
      "outputs": [
        {
          "data": {
            "image/png": "[encoded data removed]",
            "text/plain": [
              "<Figure size 1000x400 with 2 Axes>"
            ]
          },
          "metadata": {},
          "output_type": "display_data"
        }
      ],
      "source": [
        "fig, axes = plt.subplots(1, 2, figsize=(10, 4)) # 1 и 2 - это количество графиков по осям y и x \n",
        "\n",
        "sns.histplot(data['salary_in_usd'], kde=True, ax=axes[0])\n",
        "axes[0].set(xlabel='Размер зп', ylabel='Частота')\n",
        "axes[0].set_title('Размер зп в сфере Data science')\n",
        "axes[0].axvline(data['salary_in_usd'].mean(), color='blue', linestyle='--', linewidth=0.8) # отражает среднее\n",
        "\n",
        "sns.boxplot(data['salary_in_usd'], ax=axes[1], orient='h', medianprops={\"color\": \"red\", \"linestyle\": '--'}) # отражает медиану и межквартильный размах\n",
        "axes[1].set(ylabel='Размер зп')\n",
        "axes[1].set_title('Размер зп в сфере Data science')\n",
        "\n",
        "plt.show()\n",
        "\n",
        "# распределение далеко от нормального, смещено в сторону мелких значений влево"
      ]
    },
    {
      "attachments": {},
      "cell_type": "markdown",
      "metadata": {},
      "source": [
        "Распределение далеко от нормального, смещено влево. Есть незначительные выбросы"
      ]
    },
    {
      "cell_type": "code",
      "execution_count": 7,
      "metadata": {},
      "outputs": [
        {
          "data": {
            "image/png": "[encoded data removed]",
            "text/plain": [
              "<Figure size 1000x400 with 2 Axes>"
            ]
          },
          "metadata": {},
          "output_type": "display_data"
        }
      ],
      "source": [
        "log_salary = np.log(data['salary_in_usd'])\n",
        "\n",
        "fig, axes = plt.subplots(1, 2, figsize=(10, 4)) # 1 и 2 - это количество графиков по осям y и x \n",
        "\n",
        "sns.histplot(log_salary, kde=True, ax=axes[0])\n",
        "axes[0].set(xlabel='Размер зп', ylabel='Частота')\n",
        "axes[0].set_title('Размер зп в сфере Data science')\n",
        "axes[0].axvline(log_salary.mean(), color='blue', linestyle='--', linewidth=0.8) # отражает среднее\n",
        "\n",
        "sns.boxplot(log_salary, ax=axes[1], orient='h', medianprops={\"color\": \"red\", \"linestyle\": '--'}) # отражает медиану и межквартильный размах\n",
        "axes[1].set(ylabel='Размер зп')\n",
        "axes[1].set_title('Размер зп в сфере Data science')\n",
        "\n",
        "plt.show()"
      ]
    },
    {
      "attachments": {},
      "cell_type": "markdown",
      "metadata": {},
      "source": [
        "Логарифмирование также не позволило добиться нормального распределения, работаем с исходными данными"
      ]
    },
    {
      "cell_type": "code",
      "execution_count": 8,
      "metadata": {
        "colab": {
          "base_uri": "https://localhost:8080/",
          "height": 300
        },
        "id": "h4rqfECm4umv",
        "outputId": "3edbc181-1016-488d-ef8c-6dfc5dbbfee1"
      },
      "outputs": [
        {
          "data": {
            "text/html": [
              "<div>\n",
              "<style scoped>\n",
              "    .dataframe tbody tr th:only-of-type {\n",
              "        vertical-align: middle;\n",
              "    }\n",
              "\n",
              "    .dataframe tbody tr th {\n",
              "        vertical-align: top;\n",
              "    }\n",
              "\n",
              "    .dataframe thead th {\n",
              "        text-align: right;\n",
              "    }\n",
              "</style>\n",
              "<table border=\"1\" class=\"dataframe\">\n",
              "  <thead>\n",
              "    <tr style=\"text-align: right;\">\n",
              "      <th></th>\n",
              "      <th>Размер зп</th>\n",
              "    </tr>\n",
              "  </thead>\n",
              "  <tbody>\n",
              "    <tr>\n",
              "      <th>count</th>\n",
              "      <td>607.00</td>\n",
              "    </tr>\n",
              "    <tr>\n",
              "      <th>mean</th>\n",
              "      <td>112297.87</td>\n",
              "    </tr>\n",
              "    <tr>\n",
              "      <th>std</th>\n",
              "      <td>70957.26</td>\n",
              "    </tr>\n",
              "    <tr>\n",
              "      <th>min</th>\n",
              "      <td>2859.00</td>\n",
              "    </tr>\n",
              "    <tr>\n",
              "      <th>25%</th>\n",
              "      <td>62726.00</td>\n",
              "    </tr>\n",
              "    <tr>\n",
              "      <th>50%</th>\n",
              "      <td>101570.00</td>\n",
              "    </tr>\n",
              "    <tr>\n",
              "      <th>75%</th>\n",
              "      <td>150000.00</td>\n",
              "    </tr>\n",
              "    <tr>\n",
              "      <th>max</th>\n",
              "      <td>600000.00</td>\n",
              "    </tr>\n",
              "  </tbody>\n",
              "</table>\n",
              "</div>"
            ],
            "text/plain": [
              "       Размер зп\n",
              "count     607.00\n",
              "mean   112297.87\n",
              "std     70957.26\n",
              "min      2859.00\n",
              "25%     62726.00\n",
              "50%    101570.00\n",
              "75%    150000.00\n",
              "max    600000.00"
            ]
          },
          "execution_count": 8,
          "metadata": {},
          "output_type": "execute_result"
        }
      ],
      "source": [
        "data_agg = data['salary_in_usd'].describe().round(2).to_frame()\n",
        "data_agg.columns = ['Размер зп']\n",
        "data_agg"
      ]
    },
    {
      "attachments": {},
      "cell_type": "markdown",
      "metadata": {
        "id": "cFABAmBjTkCo"
      },
      "source": [
        "### Наблюдается ли ежегодный рост зарплат у специалистов Data Scientist?"
      ]
    },
    {
      "cell_type": "code",
      "execution_count": 9,
      "metadata": {
        "colab": {
          "base_uri": "https://localhost:8080/",
          "height": 480
        },
        "id": "a06HKS1bwzsS",
        "outputId": "e4aa3e1a-71d3-4df3-8857-3f9f4342fa18"
      },
      "outputs": [
        {
          "data": {
            "image/png": "[encoded data removed]",
            "text/plain": [
              "<Figure size 640x480 with 1 Axes>"
            ]
          },
          "metadata": {},
          "output_type": "display_data"
        }
      ],
      "source": [
        "ax = sns.boxplot(data, x='salary_in_usd', y='work_year', orient='h', medianprops={\"color\": \"red\", \"linestyle\": '--'})\n",
        "ax.set(xlabel='Размер зп', ylabel='Год')\n",
        "plt.title('Распределение зп по годам')\n",
        "plt.show()"
      ]
    },
    {
      "cell_type": "code",
      "execution_count": 10,
      "metadata": {
        "colab": {
          "base_uri": "https://localhost:8080/",
          "height": 161
        },
        "id": "yXC_rLMn_fFV",
        "outputId": "f54838b2-b0db-4562-b281-fab9ee61eb59"
      },
      "outputs": [
        {
          "name": "stdout",
          "output_type": "stream",
          "text": [
            "ЗП по годам\n"
          ]
        },
        {
          "data": {
            "text/html": [
              "<div>\n",
              "<style scoped>\n",
              "    .dataframe tbody tr th:only-of-type {\n",
              "        vertical-align: middle;\n",
              "    }\n",
              "\n",
              "    .dataframe tbody tr th {\n",
              "        vertical-align: top;\n",
              "    }\n",
              "\n",
              "    .dataframe thead th {\n",
              "        text-align: right;\n",
              "    }\n",
              "</style>\n",
              "<table border=\"1\" class=\"dataframe\">\n",
              "  <thead>\n",
              "    <tr style=\"text-align: right;\">\n",
              "      <th></th>\n",
              "      <th>count</th>\n",
              "      <th>mean</th>\n",
              "      <th>std</th>\n",
              "      <th>min</th>\n",
              "      <th>25%</th>\n",
              "      <th>50%</th>\n",
              "      <th>75%</th>\n",
              "      <th>max</th>\n",
              "    </tr>\n",
              "    <tr>\n",
              "      <th>work_year</th>\n",
              "      <th></th>\n",
              "      <th></th>\n",
              "      <th></th>\n",
              "      <th></th>\n",
              "      <th></th>\n",
              "      <th></th>\n",
              "      <th></th>\n",
              "      <th></th>\n",
              "    </tr>\n",
              "  </thead>\n",
              "  <tbody>\n",
              "    <tr>\n",
              "      <th>2020</th>\n",
              "      <td>72.0</td>\n",
              "      <td>95813.00</td>\n",
              "      <td>82831.80</td>\n",
              "      <td>5707.0</td>\n",
              "      <td>45724.5</td>\n",
              "      <td>75544.0</td>\n",
              "      <td>115526.0</td>\n",
              "      <td>450000.0</td>\n",
              "    </tr>\n",
              "    <tr>\n",
              "      <th>2021</th>\n",
              "      <td>217.0</td>\n",
              "      <td>99853.79</td>\n",
              "      <td>80225.11</td>\n",
              "      <td>2859.0</td>\n",
              "      <td>50000.0</td>\n",
              "      <td>82528.0</td>\n",
              "      <td>135000.0</td>\n",
              "      <td>600000.0</td>\n",
              "    </tr>\n",
              "    <tr>\n",
              "      <th>2022</th>\n",
              "      <td>318.0</td>\n",
              "      <td>124522.01</td>\n",
              "      <td>58183.65</td>\n",
              "      <td>10000.0</td>\n",
              "      <td>81666.0</td>\n",
              "      <td>120000.0</td>\n",
              "      <td>160000.0</td>\n",
              "      <td>405000.0</td>\n",
              "    </tr>\n",
              "  </tbody>\n",
              "</table>\n",
              "</div>"
            ],
            "text/plain": [
              "           count       mean       std      min      25%       50%       75%  \\\n",
              "work_year                                                                     \n",
              "2020        72.0   95813.00  82831.80   5707.0  45724.5   75544.0  115526.0   \n",
              "2021       217.0   99853.79  80225.11   2859.0  50000.0   82528.0  135000.0   \n",
              "2022       318.0  124522.01  58183.65  10000.0  81666.0  120000.0  160000.0   \n",
              "\n",
              "                max  \n",
              "work_year            \n",
              "2020       450000.0  \n",
              "2021       600000.0  \n",
              "2022       405000.0  "
            ]
          },
          "execution_count": 10,
          "metadata": {},
          "output_type": "execute_result"
        }
      ],
      "source": [
        "data_agg = data.groupby('work_year')['salary_in_usd'].describe().round(2)\n",
        "print('ЗП по годам')\n",
        "data_agg"
      ]
    },
    {
      "attachments": {},
      "cell_type": "markdown",
      "metadata": {
        "id": "QnoG6XTK_fOH"
      },
      "source": [
        "На первый взгляд зп в сфере увеличивается из года в год, но это без учета различных специальностей"
      ]
    },
    {
      "cell_type": "code",
      "execution_count": 11,
      "metadata": {},
      "outputs": [
        {
          "data": {
            "application/vnd.plotly.v1+json": {
              "config": {
                "plotlyServerURL": "https://plot.ly"
              },
              "data": [
                {
                  "coloraxis": "coloraxis",
                  "hovertemplate": "job_title: %{x}<br>work_year: %{y}<br>color: %{z}<extra></extra>",
                  "name": "0",
                  "type": "heatmap",
                  "x": [
                    "3D Computer Vision Researcher",
                    "AI Scientist",
                    "Analytics Engineer",
                    "Applied Data Scientist",
                    "Applied Machine Learning Scientist",
                    "BI Data Analyst",
                    "Big Data Architect",
                    "Big Data Engineer",
                    "Business Data Analyst",
                    "Cloud Data Engineer",
                    "Computer Vision Engineer",
                    "Computer Vision Software Engineer",
                    "Data Analyst",
                    "Data Analytics Engineer",
                    "Data Analytics Lead",
                    "Data Analytics Manager",
                    "Data Architect",
                    "Data Engineer",
                    "Data Engineering Manager",
                    "Data Science Consultant",
                    "Data Science Engineer",
                    "Data Science Manager",
                    "Data Scientist",
                    "Data Specialist",
                    "Director of Data Engineering",
                    "Director of Data Science",
                    "ETL Developer",
                    "Finance Data Analyst",
                    "Financial Data Analyst",
                    "Head of Data",
                    "Head of Data Science",
                    "Head of Machine Learning",
                    "Lead Data Analyst",
                    "Lead Data Engineer",
                    "Lead Data Scientist",
                    "Lead Machine Learning Engineer",
                    "ML Engineer",
                    "Machine Learning Developer",
                    "Machine Learning Engineer",
                    "Machine Learning Infrastructure Engineer",
                    "Machine Learning Manager",
                    "Machine Learning Scientist",
                    "Marketing Data Analyst",
                    "NLP Engineer",
                    "Principal Data Analyst",
                    "Principal Data Engineer",
                    "Principal Data Scientist",
                    "Product Data Analyst",
                    "Research Scientist",
                    "Staff Data Scientist"
                  ],
                  "xaxis": "x",
                  "y": [
                    2020,
                    2021,
                    2022
                  ],
                  "yaxis": "y",
                  "z": [
                    [
                      0,
                      45896,
                      0,
                      0,
                      0,
                      98000,
                      0,
                      109024,
                      117500,
                      0,
                      60000,
                      0,
                      46759,
                      0,
                      0,
                      0,
                      0,
                      74130,
                      69568,
                      54353.5,
                      0,
                      190200,
                      62726,
                      0,
                      0,
                      325000,
                      0,
                      0,
                      0,
                      0,
                      0,
                      0,
                      87000,
                      90500,
                      152500,
                      0,
                      15966,
                      0,
                      138000,
                      50180,
                      117104,
                      260000,
                      0,
                      0,
                      0,
                      0,
                      148261,
                      13036,
                      246000,
                      0
                    ],
                    [
                      5409,
                      15026.5,
                      0,
                      82137.5,
                      230700,
                      55000,
                      99703,
                      18000,
                      59102,
                      124647,
                      24000,
                      82873,
                      75000,
                      79197,
                      0,
                      120000,
                      170000,
                      78416.5,
                      153000,
                      76833,
                      83705,
                      148000,
                      73000,
                      165000,
                      156738,
                      153667,
                      0,
                      61896,
                      450000,
                      230000,
                      97500,
                      0,
                      94804.5,
                      160000,
                      40570,
                      0,
                      166682,
                      100000,
                      70132.5,
                      195000,
                      0,
                      172500,
                      88654,
                      0,
                      170000,
                      200000,
                      220000,
                      0,
                      66904.5,
                      105000
                    ],
                    [
                      0,
                      160000,
                      179850,
                      177000,
                      53437.5,
                      0,
                      0,
                      0,
                      44677,
                      0,
                      67500,
                      150000,
                      105000,
                      20000,
                      405000,
                      127140,
                      192482,
                      120000,
                      0,
                      0,
                      60000,
                      159000,
                      140000,
                      0,
                      0,
                      196979,
                      54957,
                      0,
                      100000,
                      116487,
                      195937.5,
                      79039,
                      0,
                      118187,
                      0,
                      87932,
                      21983,
                      78791,
                      120000,
                      58255,
                      0,
                      153000,
                      0,
                      37236,
                      75000,
                      0,
                      162674,
                      0,
                      106713.5,
                      0
                    ]
                  ]
                }
              ],
              "layout": {
                "coloraxis": {
                  "colorscale": [
                    [
                      0,
                      "rgb(247,252,245)"
                    ],
                    [
                      0.125,
                      "rgb(229,245,224)"
                    ],
                    [
                      0.25,
                      "rgb(199,233,192)"
                    ],
                    [
                      0.375,
                      "rgb(161,217,155)"
                    ],
                    [
                      0.5,
                      "rgb(116,196,118)"
                    ],
                    [
                      0.625,
                      "rgb(65,171,93)"
                    ],
                    [
                      0.75,
                      "rgb(35,139,69)"
                    ],
                    [
                      0.875,
                      "rgb(0,109,44)"
                    ],
                    [
                      1,
                      "rgb(0,68,27)"
                    ]
                  ]
                },
                "template": {
                  "data": {
                    "bar": [
                      {
                        "error_x": {
                          "color": "#2a3f5f"
                        },
                        "error_y": {
                          "color": "#2a3f5f"
                        },
                        "marker": {
                          "line": {
                            "color": "#E5ECF6",
                            "width": 0.5
                          },
                          "pattern": {
                            "fillmode": "overlay",
                            "size": 10,
                            "solidity": 0.2
                          }
                        },
                        "type": "bar"
                      }
                    ],
                    "barpolar": [
                      {
                        "marker": {
                          "line": {
                            "color": "#E5ECF6",
                            "width": 0.5
                          },
                          "pattern": {
                            "fillmode": "overlay",
                            "size": 10,
                            "solidity": 0.2
                          }
                        },
                        "type": "barpolar"
                      }
                    ],
                    "carpet": [
                      {
                        "aaxis": {
                          "endlinecolor": "#2a3f5f",
                          "gridcolor": "white",
                          "linecolor": "white",
                          "minorgridcolor": "white",
                          "startlinecolor": "#2a3f5f"
                        },
                        "baxis": {
                          "endlinecolor": "#2a3f5f",
                          "gridcolor": "white",
                          "linecolor": "white",
                          "minorgridcolor": "white",
                          "startlinecolor": "#2a3f5f"
                        },
                        "type": "carpet"
                      }
                    ],
                    "choropleth": [
                      {
                        "colorbar": {
                          "outlinewidth": 0,
                          "ticks": ""
                        },
                        "type": "choropleth"
                      }
                    ],
                    "contour": [
                      {
                        "colorbar": {
                          "outlinewidth": 0,
                          "ticks": ""
                        },
                        "colorscale": [
                          [
                            0,
                            "#0d0887"
                          ],
                          [
                            0.1111111111111111,
                            "#46039f"
                          ],
                          [
                            0.2222222222222222,
                            "#7201a8"
                          ],
                          [
                            0.3333333333333333,
                            "#9c179e"
                          ],
                          [
                            0.4444444444444444,
                            "#bd3786"
                          ],
                          [
                            0.5555555555555556,
                            "#d8576b"
                          ],
                          [
                            0.6666666666666666,
                            "#ed7953"
                          ],
                          [
                            0.7777777777777778,
                            "#fb9f3a"
                          ],
                          [
                            0.8888888888888888,
                            "#fdca26"
                          ],
                          [
                            1,
                            "#f0f921"
                          ]
                        ],
                        "type": "contour"
                      }
                    ],
                    "contourcarpet": [
                      {
                        "colorbar": {
                          "outlinewidth": 0,
                          "ticks": ""
                        },
                        "type": "contourcarpet"
                      }
                    ],
                    "heatmap": [
                      {
                        "colorbar": {
                          "outlinewidth": 0,
                          "ticks": ""
                        },
                        "colorscale": [
                          [
                            0,
                            "#0d0887"
                          ],
                          [
                            0.1111111111111111,
                            "#46039f"
                          ],
                          [
                            0.2222222222222222,
                            "#7201a8"
                          ],
                          [
                            0.3333333333333333,
                            "#9c179e"
                          ],
                          [
                            0.4444444444444444,
                            "#bd3786"
                          ],
                          [
                            0.5555555555555556,
                            "#d8576b"
                          ],
                          [
                            0.6666666666666666,
                            "#ed7953"
                          ],
                          [
                            0.7777777777777778,
                            "#fb9f3a"
                          ],
                          [
                            0.8888888888888888,
                            "#fdca26"
                          ],
                          [
                            1,
                            "#f0f921"
                          ]
                        ],
                        "type": "heatmap"
                      }
                    ],
                    "heatmapgl": [
                      {
                        "colorbar": {
                          "outlinewidth": 0,
                          "ticks": ""
                        },
                        "colorscale": [
                          [
                            0,
                            "#0d0887"
                          ],
                          [
                            0.1111111111111111,
                            "#46039f"
                          ],
                          [
                            0.2222222222222222,
                            "#7201a8"
                          ],
                          [
                            0.3333333333333333,
                            "#9c179e"
                          ],
                          [
                            0.4444444444444444,
                            "#bd3786"
                          ],
                          [
                            0.5555555555555556,
                            "#d8576b"
                          ],
                          [
                            0.6666666666666666,
                            "#ed7953"
                          ],
                          [
                            0.7777777777777778,
                            "#fb9f3a"
                          ],
                          [
                            0.8888888888888888,
                            "#fdca26"
                          ],
                          [
                            1,
                            "#f0f921"
                          ]
                        ],
                        "type": "heatmapgl"
                      }
                    ],
                    "histogram": [
                      {
                        "marker": {
                          "pattern": {
                            "fillmode": "overlay",
                            "size": 10,
                            "solidity": 0.2
                          }
                        },
                        "type": "histogram"
                      }
                    ],
                    "histogram2d": [
                      {
                        "colorbar": {
                          "outlinewidth": 0,
                          "ticks": ""
                        },
                        "colorscale": [
                          [
                            0,
                            "#0d0887"
                          ],
                          [
                            0.1111111111111111,
                            "#46039f"
                          ],
                          [
                            0.2222222222222222,
                            "#7201a8"
                          ],
                          [
                            0.3333333333333333,
                            "#9c179e"
                          ],
                          [
                            0.4444444444444444,
                            "#bd3786"
                          ],
                          [
                            0.5555555555555556,
                            "#d8576b"
                          ],
                          [
                            0.6666666666666666,
                            "#ed7953"
                          ],
                          [
                            0.7777777777777778,
                            "#fb9f3a"
                          ],
                          [
                            0.8888888888888888,
                            "#fdca26"
                          ],
                          [
                            1,
                            "#f0f921"
                          ]
                        ],
                        "type": "histogram2d"
                      }
                    ],
                    "histogram2dcontour": [
                      {
                        "colorbar": {
                          "outlinewidth": 0,
                          "ticks": ""
                        },
                        "colorscale": [
                          [
                            0,
                            "#0d0887"
                          ],
                          [
                            0.1111111111111111,
                            "#46039f"
                          ],
                          [
                            0.2222222222222222,
                            "#7201a8"
                          ],
                          [
                            0.3333333333333333,
                            "#9c179e"
                          ],
                          [
                            0.4444444444444444,
                            "#bd3786"
                          ],
                          [
                            0.5555555555555556,
                            "#d8576b"
                          ],
                          [
                            0.6666666666666666,
                            "#ed7953"
                          ],
                          [
                            0.7777777777777778,
                            "#fb9f3a"
                          ],
                          [
                            0.8888888888888888,
                            "#fdca26"
                          ],
                          [
                            1,
                            "#f0f921"
                          ]
                        ],
                        "type": "histogram2dcontour"
                      }
                    ],
                    "mesh3d": [
                      {
                        "colorbar": {
                          "outlinewidth": 0,
                          "ticks": ""
                        },
                        "type": "mesh3d"
                      }
                    ],
                    "parcoords": [
                      {
                        "line": {
                          "colorbar": {
                            "outlinewidth": 0,
                            "ticks": ""
                          }
                        },
                        "type": "parcoords"
                      }
                    ],
                    "pie": [
                      {
                        "automargin": true,
                        "type": "pie"
                      }
                    ],
                    "scatter": [
                      {
                        "fillpattern": {
                          "fillmode": "overlay",
                          "size": 10,
                          "solidity": 0.2
                        },
                        "type": "scatter"
                      }
                    ],
                    "scatter3d": [
                      {
                        "line": {
                          "colorbar": {
                            "outlinewidth": 0,
                            "ticks": ""
                          }
                        },
                        "marker": {
                          "colorbar": {
                            "outlinewidth": 0,
                            "ticks": ""
                          }
                        },
                        "type": "scatter3d"
                      }
                    ],
                    "scattercarpet": [
                      {
                        "marker": {
                          "colorbar": {
                            "outlinewidth": 0,
                            "ticks": ""
                          }
                        },
                        "type": "scattercarpet"
                      }
                    ],
                    "scattergeo": [
                      {
                        "marker": {
                          "colorbar": {
                            "outlinewidth": 0,
                            "ticks": ""
                          }
                        },
                        "type": "scattergeo"
                      }
                    ],
                    "scattergl": [
                      {
                        "marker": {
                          "colorbar": {
                            "outlinewidth": 0,
                            "ticks": ""
                          }
                        },
                        "type": "scattergl"
                      }
                    ],
                    "scattermapbox": [
                      {
                        "marker": {
                          "colorbar": {
                            "outlinewidth": 0,
                            "ticks": ""
                          }
                        },
                        "type": "scattermapbox"
                      }
                    ],
                    "scatterpolar": [
                      {
                        "marker": {
                          "colorbar": {
                            "outlinewidth": 0,
                            "ticks": ""
                          }
                        },
                        "type": "scatterpolar"
                      }
                    ],
                    "scatterpolargl": [
                      {
                        "marker": {
                          "colorbar": {
                            "outlinewidth": 0,
                            "ticks": ""
                          }
                        },
                        "type": "scatterpolargl"
                      }
                    ],
                    "scatterternary": [
                      {
                        "marker": {
                          "colorbar": {
                            "outlinewidth": 0,
                            "ticks": ""
                          }
                        },
                        "type": "scatterternary"
                      }
                    ],
                    "surface": [
                      {
                        "colorbar": {
                          "outlinewidth": 0,
                          "ticks": ""
                        },
                        "colorscale": [
                          [
                            0,
                            "#0d0887"
                          ],
                          [
                            0.1111111111111111,
                            "#46039f"
                          ],
                          [
                            0.2222222222222222,
                            "#7201a8"
                          ],
                          [
                            0.3333333333333333,
                            "#9c179e"
                          ],
                          [
                            0.4444444444444444,
                            "#bd3786"
                          ],
                          [
                            0.5555555555555556,
                            "#d8576b"
                          ],
                          [
                            0.6666666666666666,
                            "#ed7953"
                          ],
                          [
                            0.7777777777777778,
                            "#fb9f3a"
                          ],
                          [
                            0.8888888888888888,
                            "#fdca26"
                          ],
                          [
                            1,
                            "#f0f921"
                          ]
                        ],
                        "type": "surface"
                      }
                    ],
                    "table": [
                      {
                        "cells": {
                          "fill": {
                            "color": "#EBF0F8"
                          },
                          "line": {
                            "color": "white"
                          }
                        },
                        "header": {
                          "fill": {
                            "color": "#C8D4E3"
                          },
                          "line": {
                            "color": "white"
                          }
                        },
                        "type": "table"
                      }
                    ]
                  },
                  "layout": {
                    "annotationdefaults": {
                      "arrowcolor": "#2a3f5f",
                      "arrowhead": 0,
                      "arrowwidth": 1
                    },
                    "autotypenumbers": "strict",
                    "coloraxis": {
                      "colorbar": {
                        "outlinewidth": 0,
                        "ticks": ""
                      }
                    },
                    "colorscale": {
                      "diverging": [
                        [
                          0,
                          "#8e0152"
                        ],
                        [
                          0.1,
                          "#c51b7d"
                        ],
                        [
                          0.2,
                          "#de77ae"
                        ],
                        [
                          0.3,
                          "#f1b6da"
                        ],
                        [
                          0.4,
                          "#fde0ef"
                        ],
                        [
                          0.5,
                          "#f7f7f7"
                        ],
                        [
                          0.6,
                          "#e6f5d0"
                        ],
                        [
                          0.7,
                          "#b8e186"
                        ],
                        [
                          0.8,
                          "#7fbc41"
                        ],
                        [
                          0.9,
                          "#4d9221"
                        ],
                        [
                          1,
                          "#276419"
                        ]
                      ],
                      "sequential": [
                        [
                          0,
                          "#0d0887"
                        ],
                        [
                          0.1111111111111111,
                          "#46039f"
                        ],
                        [
                          0.2222222222222222,
                          "#7201a8"
                        ],
                        [
                          0.3333333333333333,
                          "#9c179e"
                        ],
                        [
                          0.4444444444444444,
                          "#bd3786"
                        ],
                        [
                          0.5555555555555556,
                          "#d8576b"
                        ],
                        [
                          0.6666666666666666,
                          "#ed7953"
                        ],
                        [
                          0.7777777777777778,
                          "#fb9f3a"
                        ],
                        [
                          0.8888888888888888,
                          "#fdca26"
                        ],
                        [
                          1,
                          "#f0f921"
                        ]
                      ],
                      "sequentialminus": [
                        [
                          0,
                          "#0d0887"
                        ],
                        [
                          0.1111111111111111,
                          "#46039f"
                        ],
                        [
                          0.2222222222222222,
                          "#7201a8"
                        ],
                        [
                          0.3333333333333333,
                          "#9c179e"
                        ],
                        [
                          0.4444444444444444,
                          "#bd3786"
                        ],
                        [
                          0.5555555555555556,
                          "#d8576b"
                        ],
                        [
                          0.6666666666666666,
                          "#ed7953"
                        ],
                        [
                          0.7777777777777778,
                          "#fb9f3a"
                        ],
                        [
                          0.8888888888888888,
                          "#fdca26"
                        ],
                        [
                          1,
                          "#f0f921"
                        ]
                      ]
                    },
                    "colorway": [
                      "#636efa",
                      "#EF553B",
                      "#00cc96",
                      "#ab63fa",
                      "#FFA15A",
                      "#19d3f3",
                      "#FF6692",
                      "#B6E880",
                      "#FF97FF",
                      "#FECB52"
                    ],
                    "font": {
                      "color": "#2a3f5f"
                    },
                    "geo": {
                      "bgcolor": "white",
                      "lakecolor": "white",
                      "landcolor": "#E5ECF6",
                      "showlakes": true,
                      "showland": true,
                      "subunitcolor": "white"
                    },
                    "hoverlabel": {
                      "align": "left"
                    },
                    "hovermode": "closest",
                    "mapbox": {
                      "style": "light"
                    },
                    "paper_bgcolor": "white",
                    "plot_bgcolor": "#E5ECF6",
                    "polar": {
                      "angularaxis": {
                        "gridcolor": "white",
                        "linecolor": "white",
                        "ticks": ""
                      },
                      "bgcolor": "#E5ECF6",
                      "radialaxis": {
                        "gridcolor": "white",
                        "linecolor": "white",
                        "ticks": ""
                      }
                    },
                    "scene": {
                      "xaxis": {
                        "backgroundcolor": "#E5ECF6",
                        "gridcolor": "white",
                        "gridwidth": 2,
                        "linecolor": "white",
                        "showbackground": true,
                        "ticks": "",
                        "zerolinecolor": "white"
                      },
                      "yaxis": {
                        "backgroundcolor": "#E5ECF6",
                        "gridcolor": "white",
                        "gridwidth": 2,
                        "linecolor": "white",
                        "showbackground": true,
                        "ticks": "",
                        "zerolinecolor": "white"
                      },
                      "zaxis": {
                        "backgroundcolor": "#E5ECF6",
                        "gridcolor": "white",
                        "gridwidth": 2,
                        "linecolor": "white",
                        "showbackground": true,
                        "ticks": "",
                        "zerolinecolor": "white"
                      }
                    },
                    "shapedefaults": {
                      "line": {
                        "color": "#2a3f5f"
                      }
                    },
                    "ternary": {
                      "aaxis": {
                        "gridcolor": "white",
                        "linecolor": "white",
                        "ticks": ""
                      },
                      "baxis": {
                        "gridcolor": "white",
                        "linecolor": "white",
                        "ticks": ""
                      },
                      "bgcolor": "#E5ECF6",
                      "caxis": {
                        "gridcolor": "white",
                        "linecolor": "white",
                        "ticks": ""
                      }
                    },
                    "title": {
                      "x": 0.05
                    },
                    "xaxis": {
                      "automargin": true,
                      "gridcolor": "white",
                      "linecolor": "white",
                      "ticks": "",
                      "title": {
                        "standoff": 15
                      },
                      "zerolinecolor": "white",
                      "zerolinewidth": 2
                    },
                    "yaxis": {
                      "automargin": true,
                      "gridcolor": "white",
                      "linecolor": "white",
                      "ticks": "",
                      "title": {
                        "standoff": 15
                      },
                      "zerolinecolor": "white",
                      "zerolinewidth": 2
                    }
                  }
                },
                "title": {
                  "text": "Медианная з/п из года в года в зависимости от вакансии"
                },
                "xaxis": {
                  "anchor": "y",
                  "domain": [
                    0,
                    1
                  ],
                  "title": {
                    "text": "job_title"
                  }
                },
                "yaxis": {
                  "anchor": "x",
                  "autorange": "reversed",
                  "domain": [
                    0,
                    1
                  ],
                  "title": {
                    "text": "work_year"
                  }
                }
              }
            }
          },
          "metadata": {},
          "output_type": "display_data"
        }
      ],
      "source": [
        "import plotly.express as px\n",
        "\n",
        "salary_year_job = data.pivot_table(\n",
        "    values='salary_in_usd',\n",
        "    index='work_year',\n",
        "    columns='job_title',\n",
        "    aggfunc = 'median',\n",
        "    fill_value=0\n",
        ")\n",
        "\n",
        "#тепловая карта\n",
        "fig = px.imshow(\n",
        "    salary_year_job,\n",
        "    aspect='auto',\n",
        "    color_continuous_scale='greens',\n",
        "    title='Медианная з/п из года в года в зависимости от вакансии'\n",
        ")\n",
        "fig.show()"
      ]
    },
    {
      "attachments": {},
      "cell_type": "markdown",
      "metadata": {},
      "source": [
        "Если посмотреть на все специальности по отдельности нельзя наверняка утверждать, что зп растет из года в год. Даже если не брать в расчет выбросы со свервысокой зп, и те вакансии, которые появились только в 2022 г., все равно мы не можем утверждать, что даже в половине вакансий идет постепенный рост из года в год."
      ]
    },
    {
      "attachments": {},
      "cell_type": "markdown",
      "metadata": {
        "id": "crI7PFP0TpDI"
      },
      "source": [
        "### Какие факторы влияют на зарплату у специалистов Data Scientist?"
      ]
    },
    {
      "cell_type": "code",
      "execution_count": 12,
      "metadata": {
        "colab": {
          "base_uri": "https://localhost:8080/",
          "height": 480
        },
        "id": "SkPmlfj7S9BL",
        "outputId": "00283144-aa01-43c9-9ee4-b0a38efc3f84"
      },
      "outputs": [
        {
          "data": {
            "image/png": "[encoded data removed]",
            "text/plain": [
              "<Figure size 1200x1000 with 4 Axes>"
            ]
          },
          "metadata": {},
          "output_type": "display_data"
        }
      ],
      "source": [
        "fig, axes = plt.subplots(2, 2, figsize=(12, 10)) \n",
        "\n",
        "sns.boxplot(data, x='salary_in_usd', y='experience_level', ax=axes[0, 0], orient='h', order=('EN', 'MI', 'SE', 'EX'), medianprops={\"color\": \"red\", \"linestyle\": '--'}) \n",
        "axes[0, 0].set(xlabel='Размер ЗП', ylabel='Опыт')\n",
        "axes[0, 0].set_title('Зависимость зп от опыта')\n",
        "\n",
        "sns.boxplot(data, x='salary_in_usd', y='employment_type', ax=axes[0, 1], orient='h', order=('PT', 'FT', 'CT', 'FL'),medianprops={\"color\": \"red\", \"linestyle\": '--'}) \n",
        "axes[0, 1].set(xlabel='Размер ЗП', ylabel='Тип занятости')\n",
        "axes[0, 1].set_title('Зависимость зп от типа занятости')\n",
        "\n",
        "sns.boxplot(data, x='salary_in_usd', y='remote_ratio', ax=axes[1, 0], orient='h', medianprops={\"color\": \"red\", \"linestyle\": '--'}) \n",
        "axes[1, 0].set(xlabel='Размер ЗП', ylabel='Объем удаленной работы')\n",
        "axes[1, 0].set_title('Зависимость зп от remote_ratio')\n",
        "\n",
        "sns.boxplot(data, x='salary_in_usd', y='company_size', ax=axes[1, 1], orient='h', order=('S', 'M', 'L'),medianprops={\"color\": \"red\", \"linestyle\": '--'}) \n",
        "axes[1, 1].set(xlabel='Размер ЗП', ylabel='Размер компании')\n",
        "axes[1, 1].set_title('Зависимость зп от размера компании')\n",
        "\n",
        "plt.show()\n"
      ]
    },
    {
      "attachments": {},
      "cell_type": "markdown",
      "metadata": {},
      "source": [
        "На первый взгляд есть зависимость от опыта: чем выше экспертность, тем в среднем на большую ЗП может претендовать участник. По типам занятости наблюдается взаимосвязь между неполным и полным рабочим днем - полный день явно оплачивается больше. У людей, работающих по контракту очень большой разброс в ЗП, а фриланс оплачивается на сопоставимом уровне с неполным днем. Между уровнем ЗП и объемом удаленной работы; и ЗП и размера компании - зависимости не наблюдаются."
      ]
    },
    {
      "attachments": {},
      "cell_type": "markdown",
      "metadata": {},
      "source": [
        "### Влияет ли локация сотрудника (расположен он в одном и том же регионе, что и работодатель или нет) на его заработную плату?\n",
        "\n",
        "Можно предположить, что если человек живет там же, где находится главный офис, то его ЗП может быть выше, поскольку компании не нужно релоцировать сотрудника, проверим это.\n",
        "\n",
        "### Влияет ли локация сотрудника (расположен он в одном и том же регионе, что и работодатель или нет) на его объем удаленной работы?\n",
        "С другой стороны, если компания и сотрудник не находятся в одном регионе, должен быть выше Remote-ration"
      ]
    },
    {
      "cell_type": "code",
      "execution_count": 13,
      "metadata": {},
      "outputs": [],
      "source": [
        "# Добавим вспомогаетльный столбец на счет того, совпадают регионы или нет\n",
        "\n",
        "data['equal_regions'] = (data['employee_residence'] == data['company_location'])\n"
      ]
    },
    {
      "cell_type": "code",
      "execution_count": 14,
      "metadata": {
        "colab": {
          "base_uri": "https://localhost:8080/",
          "height": 161
        },
        "id": "yeXQdZzQS9BL",
        "outputId": "452b6af6-f003-4332-8d79-cffcaa4f8fb8"
      },
      "outputs": [
        {
          "data": {
            "image/png": "[encoded data removed]",
            "text/plain": [
              "<Figure size 1000x500 with 2 Axes>"
            ]
          },
          "metadata": {},
          "output_type": "display_data"
        }
      ],
      "source": [
        "fig, axes = plt.subplots(1, 2, figsize=(10, 5)) # 1 и 2 - это количество графиков по осям y и x \n",
        "\n",
        "sns.boxplot(data, x='salary_in_usd', y='equal_regions', ax=axes[0], orient='h', medianprops={\"color\": \"red\", \"linestyle\": '--'}) \n",
        "axes[0].set(xlabel='Размер ЗП', ylabel='Сотрудник живет в регионе работодателя')\n",
        "axes[0].set_title('Зависимость зп от проживания сотрудника')\n",
        "\n",
        "sns.barplot(data, y='remote_ratio', x='equal_regions', ax=axes[1]) \n",
        "axes[1].set(xlabel='Сотрудник живет в регионе работодателя', ylabel='Средний Remote-ratio')\n",
        "axes[1].set_title('Зависимость Remote-ratio от проживания сотрудника')\n",
        "\n",
        "plt.show()"
      ]
    },
    {
      "attachments": {},
      "cell_type": "markdown",
      "metadata": {
        "id": "zK_jL2gjS9BL"
      },
      "source": [
        "Визуально можно сделать вывод, что Remote ratio действительно выше в случаях, когда головной офис компании и сотрудник находятся в разных регионах, т.е. человек по большей степени работает удаленно. Также кажется, что оплачивается удаленная работа из другого региона ниже, чем работа в том же городе."
      ]
    },
    {
      "attachments": {},
      "cell_type": "markdown",
      "metadata": {
        "id": "y5MHyfPTTshb"
      },
      "source": [
        "### Как соотносятся зарплаты Data Scientist и Data Engineer в различных компаниях"
      ]
    },
    {
      "cell_type": "code",
      "execution_count": 19,
      "metadata": {
        "colab": {
          "base_uri": "https://localhost:8080/",
          "height": 480
        },
        "id": "denXZIElwzvO",
        "outputId": "5101be0d-2e82-4126-ab69-ffc179b1626b"
      },
      "outputs": [
        {
          "data": {
            "text/html": [
              "<div>\n",
              "<style scoped>\n",
              "    .dataframe tbody tr th:only-of-type {\n",
              "        vertical-align: middle;\n",
              "    }\n",
              "\n",
              "    .dataframe tbody tr th {\n",
              "        vertical-align: top;\n",
              "    }\n",
              "\n",
              "    .dataframe thead th {\n",
              "        text-align: right;\n",
              "    }\n",
              "</style>\n",
              "<table border=\"1\" class=\"dataframe\">\n",
              "  <thead>\n",
              "    <tr style=\"text-align: right;\">\n",
              "      <th></th>\n",
              "      <th>Unnamed: 0</th>\n",
              "      <th>work_year</th>\n",
              "      <th>experience_level</th>\n",
              "      <th>employment_type</th>\n",
              "      <th>job_title</th>\n",
              "      <th>salary</th>\n",
              "      <th>salary_currency</th>\n",
              "      <th>salary_in_usd</th>\n",
              "      <th>employee_residence</th>\n",
              "      <th>remote_ratio</th>\n",
              "      <th>company_location</th>\n",
              "      <th>company_size</th>\n",
              "      <th>equal_regions</th>\n",
              "      <th>job_classification</th>\n",
              "    </tr>\n",
              "  </thead>\n",
              "  <tbody>\n",
              "    <tr>\n",
              "      <th>0</th>\n",
              "      <td>0</td>\n",
              "      <td>2020</td>\n",
              "      <td>MI</td>\n",
              "      <td>FT</td>\n",
              "      <td>Data Scientist</td>\n",
              "      <td>70000</td>\n",
              "      <td>EUR</td>\n",
              "      <td>79833</td>\n",
              "      <td>DE</td>\n",
              "      <td>0</td>\n",
              "      <td>DE</td>\n",
              "      <td>L</td>\n",
              "      <td>True</td>\n",
              "      <td>Data Scientist</td>\n",
              "    </tr>\n",
              "    <tr>\n",
              "      <th>1</th>\n",
              "      <td>1</td>\n",
              "      <td>2020</td>\n",
              "      <td>SE</td>\n",
              "      <td>FT</td>\n",
              "      <td>Machine Learning Scientist</td>\n",
              "      <td>260000</td>\n",
              "      <td>USD</td>\n",
              "      <td>260000</td>\n",
              "      <td>JP</td>\n",
              "      <td>0</td>\n",
              "      <td>JP</td>\n",
              "      <td>S</td>\n",
              "      <td>True</td>\n",
              "      <td>Data Scientist</td>\n",
              "    </tr>\n",
              "    <tr>\n",
              "      <th>2</th>\n",
              "      <td>2</td>\n",
              "      <td>2020</td>\n",
              "      <td>SE</td>\n",
              "      <td>FT</td>\n",
              "      <td>Big Data Engineer</td>\n",
              "      <td>85000</td>\n",
              "      <td>GBP</td>\n",
              "      <td>109024</td>\n",
              "      <td>GB</td>\n",
              "      <td>50</td>\n",
              "      <td>GB</td>\n",
              "      <td>M</td>\n",
              "      <td>True</td>\n",
              "      <td>Data Engineer</td>\n",
              "    </tr>\n",
              "    <tr>\n",
              "      <th>3</th>\n",
              "      <td>3</td>\n",
              "      <td>2020</td>\n",
              "      <td>MI</td>\n",
              "      <td>FT</td>\n",
              "      <td>Product Data Analyst</td>\n",
              "      <td>20000</td>\n",
              "      <td>USD</td>\n",
              "      <td>20000</td>\n",
              "      <td>HN</td>\n",
              "      <td>0</td>\n",
              "      <td>HN</td>\n",
              "      <td>S</td>\n",
              "      <td>True</td>\n",
              "      <td>other</td>\n",
              "    </tr>\n",
              "    <tr>\n",
              "      <th>4</th>\n",
              "      <td>4</td>\n",
              "      <td>2020</td>\n",
              "      <td>SE</td>\n",
              "      <td>FT</td>\n",
              "      <td>Machine Learning Engineer</td>\n",
              "      <td>150000</td>\n",
              "      <td>USD</td>\n",
              "      <td>150000</td>\n",
              "      <td>US</td>\n",
              "      <td>50</td>\n",
              "      <td>US</td>\n",
              "      <td>L</td>\n",
              "      <td>True</td>\n",
              "      <td>Data Engineer</td>\n",
              "    </tr>\n",
              "    <tr>\n",
              "      <th>...</th>\n",
              "      <td>...</td>\n",
              "      <td>...</td>\n",
              "      <td>...</td>\n",
              "      <td>...</td>\n",
              "      <td>...</td>\n",
              "      <td>...</td>\n",
              "      <td>...</td>\n",
              "      <td>...</td>\n",
              "      <td>...</td>\n",
              "      <td>...</td>\n",
              "      <td>...</td>\n",
              "      <td>...</td>\n",
              "      <td>...</td>\n",
              "      <td>...</td>\n",
              "    </tr>\n",
              "    <tr>\n",
              "      <th>602</th>\n",
              "      <td>602</td>\n",
              "      <td>2022</td>\n",
              "      <td>SE</td>\n",
              "      <td>FT</td>\n",
              "      <td>Data Engineer</td>\n",
              "      <td>154000</td>\n",
              "      <td>USD</td>\n",
              "      <td>154000</td>\n",
              "      <td>US</td>\n",
              "      <td>100</td>\n",
              "      <td>US</td>\n",
              "      <td>M</td>\n",
              "      <td>True</td>\n",
              "      <td>Data Engineer</td>\n",
              "    </tr>\n",
              "    <tr>\n",
              "      <th>603</th>\n",
              "      <td>603</td>\n",
              "      <td>2022</td>\n",
              "      <td>SE</td>\n",
              "      <td>FT</td>\n",
              "      <td>Data Engineer</td>\n",
              "      <td>126000</td>\n",
              "      <td>USD</td>\n",
              "      <td>126000</td>\n",
              "      <td>US</td>\n",
              "      <td>100</td>\n",
              "      <td>US</td>\n",
              "      <td>M</td>\n",
              "      <td>True</td>\n",
              "      <td>Data Engineer</td>\n",
              "    </tr>\n",
              "    <tr>\n",
              "      <th>604</th>\n",
              "      <td>604</td>\n",
              "      <td>2022</td>\n",
              "      <td>SE</td>\n",
              "      <td>FT</td>\n",
              "      <td>Data Analyst</td>\n",
              "      <td>129000</td>\n",
              "      <td>USD</td>\n",
              "      <td>129000</td>\n",
              "      <td>US</td>\n",
              "      <td>0</td>\n",
              "      <td>US</td>\n",
              "      <td>M</td>\n",
              "      <td>True</td>\n",
              "      <td>other</td>\n",
              "    </tr>\n",
              "    <tr>\n",
              "      <th>605</th>\n",
              "      <td>605</td>\n",
              "      <td>2022</td>\n",
              "      <td>SE</td>\n",
              "      <td>FT</td>\n",
              "      <td>Data Analyst</td>\n",
              "      <td>150000</td>\n",
              "      <td>USD</td>\n",
              "      <td>150000</td>\n",
              "      <td>US</td>\n",
              "      <td>100</td>\n",
              "      <td>US</td>\n",
              "      <td>M</td>\n",
              "      <td>True</td>\n",
              "      <td>other</td>\n",
              "    </tr>\n",
              "    <tr>\n",
              "      <th>606</th>\n",
              "      <td>606</td>\n",
              "      <td>2022</td>\n",
              "      <td>MI</td>\n",
              "      <td>FT</td>\n",
              "      <td>AI Scientist</td>\n",
              "      <td>200000</td>\n",
              "      <td>USD</td>\n",
              "      <td>200000</td>\n",
              "      <td>IN</td>\n",
              "      <td>100</td>\n",
              "      <td>US</td>\n",
              "      <td>L</td>\n",
              "      <td>False</td>\n",
              "      <td>Data Scientist</td>\n",
              "    </tr>\n",
              "  </tbody>\n",
              "</table>\n",
              "<p>607 rows × 14 columns</p>\n",
              "</div>"
            ],
            "text/plain": [
              "     Unnamed: 0  work_year experience_level employment_type  \\\n",
              "0             0       2020               MI              FT   \n",
              "1             1       2020               SE              FT   \n",
              "2             2       2020               SE              FT   \n",
              "3             3       2020               MI              FT   \n",
              "4             4       2020               SE              FT   \n",
              "..          ...        ...              ...             ...   \n",
              "602         602       2022               SE              FT   \n",
              "603         603       2022               SE              FT   \n",
              "604         604       2022               SE              FT   \n",
              "605         605       2022               SE              FT   \n",
              "606         606       2022               MI              FT   \n",
              "\n",
              "                      job_title  salary salary_currency  salary_in_usd  \\\n",
              "0                Data Scientist   70000             EUR          79833   \n",
              "1    Machine Learning Scientist  260000             USD         260000   \n",
              "2             Big Data Engineer   85000             GBP         109024   \n",
              "3          Product Data Analyst   20000             USD          20000   \n",
              "4     Machine Learning Engineer  150000             USD         150000   \n",
              "..                          ...     ...             ...            ...   \n",
              "602               Data Engineer  154000             USD         154000   \n",
              "603               Data Engineer  126000             USD         126000   \n",
              "604                Data Analyst  129000             USD         129000   \n",
              "605                Data Analyst  150000             USD         150000   \n",
              "606                AI Scientist  200000             USD         200000   \n",
              "\n",
              "    employee_residence  remote_ratio company_location company_size  \\\n",
              "0                   DE             0               DE            L   \n",
              "1                   JP             0               JP            S   \n",
              "2                   GB            50               GB            M   \n",
              "3                   HN             0               HN            S   \n",
              "4                   US            50               US            L   \n",
              "..                 ...           ...              ...          ...   \n",
              "602                 US           100               US            M   \n",
              "603                 US           100               US            M   \n",
              "604                 US             0               US            M   \n",
              "605                 US           100               US            M   \n",
              "606                 IN           100               US            L   \n",
              "\n",
              "     equal_regions job_classification  \n",
              "0             True     Data Scientist  \n",
              "1             True     Data Scientist  \n",
              "2             True      Data Engineer  \n",
              "3             True              other  \n",
              "4             True      Data Engineer  \n",
              "..             ...                ...  \n",
              "602           True      Data Engineer  \n",
              "603           True      Data Engineer  \n",
              "604           True              other  \n",
              "605           True              other  \n",
              "606          False     Data Scientist  \n",
              "\n",
              "[607 rows x 14 columns]"
            ]
          },
          "metadata": {},
          "output_type": "display_data"
        },
        {
          "data": {
            "image/png": "[encoded data removed]",
            "text/plain": [
              "<Figure size 640x480 with 1 Axes>"
            ]
          },
          "metadata": {},
          "output_type": "display_data"
        }
      ],
      "source": [
        "def separate_job(arg): \n",
        "    \"\"\"\n",
        "    separate jobs on Data Scientist, Data Engineer and other\n",
        "\n",
        "    Args:\n",
        "        arg (_str_): str of job\n",
        "\n",
        "    Returns:\n",
        "        str: Data Scientist, Data Engineer, other\n",
        "    \"\"\"    \n",
        "    \n",
        "    if ('Scientist' in arg):\n",
        "        result = 'Data Scientist'\n",
        "    elif ('Engineer' in arg):\n",
        "        result = 'Data Engineer'\n",
        "    else:\n",
        "        result = 'other'\n",
        "    return result    \n",
        "\n",
        "data['job_classification'] = data['job_title'].apply(separate_job)\n",
        "display(data)\n",
        "\n",
        "ax = sns.boxplot(data, x='salary_in_usd', y='job_classification', orient='h', medianprops={\"color\": \"red\", \"linestyle\": '--'}) \n",
        "ax.set(xlabel='Размер ЗП', ylabel='Специализация сотрудника')\n",
        "plt.title('Зависимость зп от специализации сотрудника')\n",
        "plt.show()"
      ]
    },
    {
      "cell_type": "code",
      "execution_count": 21,
      "metadata": {
        "colab": {
          "base_uri": "https://localhost:8080/",
          "height": 223
        },
        "id": "xfI208tHwz6T",
        "outputId": "af1e6d3f-7417-4633-814a-353507e9104f"
      },
      "outputs": [
        {
          "name": "stdout",
          "output_type": "stream",
          "text": [
            "Зависимость зп от специализации сотрудника\n"
          ]
        },
        {
          "data": {
            "text/html": [
              "<div>\n",
              "<style scoped>\n",
              "    .dataframe tbody tr th:only-of-type {\n",
              "        vertical-align: middle;\n",
              "    }\n",
              "\n",
              "    .dataframe tbody tr th {\n",
              "        vertical-align: top;\n",
              "    }\n",
              "\n",
              "    .dataframe thead th {\n",
              "        text-align: right;\n",
              "    }\n",
              "</style>\n",
              "<table border=\"1\" class=\"dataframe\">\n",
              "  <thead>\n",
              "    <tr style=\"text-align: right;\">\n",
              "      <th></th>\n",
              "      <th>count</th>\n",
              "      <th>mean</th>\n",
              "      <th>std</th>\n",
              "      <th>min</th>\n",
              "      <th>25%</th>\n",
              "      <th>50%</th>\n",
              "      <th>75%</th>\n",
              "      <th>max</th>\n",
              "    </tr>\n",
              "    <tr>\n",
              "      <th>job_classification</th>\n",
              "      <th></th>\n",
              "      <th></th>\n",
              "      <th></th>\n",
              "      <th></th>\n",
              "      <th></th>\n",
              "      <th></th>\n",
              "      <th></th>\n",
              "      <th></th>\n",
              "    </tr>\n",
              "  </thead>\n",
              "  <tbody>\n",
              "    <tr>\n",
              "      <th>Data Engineer</th>\n",
              "      <td>230.0</td>\n",
              "      <td>110870.99</td>\n",
              "      <td>69625.23</td>\n",
              "      <td>4000.0</td>\n",
              "      <td>63758.25</td>\n",
              "      <td>100000.0</td>\n",
              "      <td>154450.0</td>\n",
              "      <td>600000.0</td>\n",
              "    </tr>\n",
              "    <tr>\n",
              "      <th>Data Scientist</th>\n",
              "      <td>194.0</td>\n",
              "      <td>115202.26</td>\n",
              "      <td>77737.85</td>\n",
              "      <td>2859.0</td>\n",
              "      <td>56376.50</td>\n",
              "      <td>104945.0</td>\n",
              "      <td>150000.0</td>\n",
              "      <td>450000.0</td>\n",
              "    </tr>\n",
              "    <tr>\n",
              "      <th>other</th>\n",
              "      <td>183.0</td>\n",
              "      <td>111012.25</td>\n",
              "      <td>65141.96</td>\n",
              "      <td>5409.0</td>\n",
              "      <td>70326.50</td>\n",
              "      <td>100000.0</td>\n",
              "      <td>142923.0</td>\n",
              "      <td>450000.0</td>\n",
              "    </tr>\n",
              "  </tbody>\n",
              "</table>\n",
              "</div>"
            ],
            "text/plain": [
              "                    count       mean       std     min       25%       50%  \\\n",
              "job_classification                                                           \n",
              "Data Engineer       230.0  110870.99  69625.23  4000.0  63758.25  100000.0   \n",
              "Data Scientist      194.0  115202.26  77737.85  2859.0  56376.50  104945.0   \n",
              "other               183.0  111012.25  65141.96  5409.0  70326.50  100000.0   \n",
              "\n",
              "                         75%       max  \n",
              "job_classification                      \n",
              "Data Engineer       154450.0  600000.0  \n",
              "Data Scientist      150000.0  450000.0  \n",
              "other               142923.0  450000.0  "
            ]
          },
          "execution_count": 21,
          "metadata": {},
          "output_type": "execute_result"
        }
      ],
      "source": [
        "data_agg = data.groupby('job_classification')['salary_in_usd'].describe().round(2)\n",
        "print('Зависимость зп от специализации сотрудника')\n",
        "data_agg"
      ]
    },
    {
      "attachments": {},
      "cell_type": "markdown",
      "metadata": {
        "id": "y_SC_018yS76"
      },
      "source": [
        "Нельзя напрямую сделать вывод, что ЗП Data Scientist, Data Engineer и других сотрудников сферы сильно отличается в зависимости от специальности"
      ]
    },
    {
      "attachments": {},
      "cell_type": "markdown",
      "metadata": {
        "id": "GlJ2fclcl7Zd"
      },
      "source": [
        "### Есть ли связь между наличием должностей Data Scientist и Data Engineer и размером компании?"
      ]
    },
    {
      "cell_type": "code",
      "execution_count": 33,
      "metadata": {
        "id": "Uk8459-8l7Zd",
        "outputId": "ec251979-47d0-4b80-8c0a-d4416583b95c"
      },
      "outputs": [
        {
          "data": {
            "image/png": "[encoded data removed]",
            "text/plain": [
              "<Figure size 640x480 with 1 Axes>"
            ]
          },
          "metadata": {},
          "output_type": "display_data"
        },
        {
          "data": {
            "image/png": "[encoded data removed]",
            "text/plain": [
              "<Figure size 640x480 with 2 Axes>"
            ]
          },
          "metadata": {},
          "output_type": "display_data"
        },
        {
          "name": "stdout",
          "output_type": "stream",
          "text": [
            "Зависимость специализации сотрудника от размера компании\n"
          ]
        },
        {
          "data": {
            "text/html": [
              "<div>\n",
              "<style scoped>\n",
              "    .dataframe tbody tr th:only-of-type {\n",
              "        vertical-align: middle;\n",
              "    }\n",
              "\n",
              "    .dataframe tbody tr th {\n",
              "        vertical-align: top;\n",
              "    }\n",
              "\n",
              "    .dataframe thead th {\n",
              "        text-align: right;\n",
              "    }\n",
              "</style>\n",
              "<table border=\"1\" class=\"dataframe\">\n",
              "  <thead>\n",
              "    <tr style=\"text-align: right;\">\n",
              "      <th></th>\n",
              "      <th>count</th>\n",
              "      <th>unique</th>\n",
              "      <th>top</th>\n",
              "      <th>freq</th>\n",
              "    </tr>\n",
              "    <tr>\n",
              "      <th>job_classification</th>\n",
              "      <th></th>\n",
              "      <th></th>\n",
              "      <th></th>\n",
              "      <th></th>\n",
              "    </tr>\n",
              "  </thead>\n",
              "  <tbody>\n",
              "    <tr>\n",
              "      <th>Data Engineer</th>\n",
              "      <td>230</td>\n",
              "      <td>3</td>\n",
              "      <td>M</td>\n",
              "      <td>125</td>\n",
              "    </tr>\n",
              "    <tr>\n",
              "      <th>Data Scientist</th>\n",
              "      <td>194</td>\n",
              "      <td>3</td>\n",
              "      <td>M</td>\n",
              "      <td>90</td>\n",
              "    </tr>\n",
              "    <tr>\n",
              "      <th>other</th>\n",
              "      <td>183</td>\n",
              "      <td>3</td>\n",
              "      <td>M</td>\n",
              "      <td>111</td>\n",
              "    </tr>\n",
              "  </tbody>\n",
              "</table>\n",
              "</div>"
            ],
            "text/plain": [
              "                   count unique top freq\n",
              "job_classification                      \n",
              "Data Engineer        230      3   M  125\n",
              "Data Scientist       194      3   M   90\n",
              "other                183      3   M  111"
            ]
          },
          "execution_count": 33,
          "metadata": {},
          "output_type": "execute_result"
        }
      ],
      "source": [
        "ax = sns.countplot(data=data, x=data['company_size'], hue='job_classification', order=('L', 'M', 'S'))\n",
        "ax.set(xlabel='Размер компании', ylabel='Количество')\n",
        "plt.title('Соотношение специализации сотрудников и размеров компаний')\n",
        "plt.show()\n",
        "\n",
        "cross_tab = pd.crosstab(index=data['job_classification'], columns=data['company_size']) # таблица сопряженности\n",
        "ax = sns.heatmap(cross_tab, annot=True, linewidth=.5, fmt='.0f', cmap=\"coolwarm\") # тепловая карта\n",
        "ax.set(xlabel='Размер компании', ylabel='Специализация')\n",
        "plt.title('Таблица сопряженности')\n",
        "plt.show()\n",
        "\n",
        "data_agg = data.groupby('job_classification')['company_size'].describe().round(2)\n",
        "print('Зависимость специализации сотрудника от размера компании')\n",
        "data_agg"
      ]
    },
    {
      "attachments": {},
      "cell_type": "markdown",
      "metadata": {
        "id": "Z0rsfkQql7Ze"
      },
      "source": [
        "Согласно данным, можно предположить, что есть некоторая разница между размером компании и специализацией, но это вполне может быть погрешностью выборки, проверим на статистических тестах"
      ]
    },
    {
      "cell_type": "markdown",
      "metadata": {
        "id": "-UcttLBPfd8-"
      },
      "source": [
        "## Статистический анализ данных\n",
        "\n"
      ]
    },
    {
      "cell_type": "code",
      "execution_count": 34,
      "metadata": {
        "id": "sn3PGE23l7Ze"
      },
      "outputs": [],
      "source": [
        "# функция для принятия решения о нормальности\n",
        "def decision_normality(p):\n",
        "    print('p-value = {:.3f}'.format(p))\n",
        "    if p <= alpha:\n",
        "        print('p-значение меньше, чем заданный уровень значимости {:.2f}. Распределение отлично от нормального'.format(alpha))\n",
        "    else:\n",
        "        print('p-значение больше, чем заданный уровень значимости {:.2f}. Распределение является нормальным'.format(alpha))\n",
        "\n",
        "\n",
        "# функция для принятия решения об отклонении нулевой гипотезы - по сути тоже самое, что и выше, но для всего остального кроме нормальности\n",
        "def decision_hypothesis(p):\n",
        "    print('p-value = {:.3f}'.format(p))\n",
        "    if p <= alpha:\n",
        "        print('p-значение меньше, чем заданный уровень значимости {:.2f}. Отвергаем нулевую гипотезу в пользу альтернативной.'.format(alpha))\n",
        "    else:\n",
        "        print('p-значение больше, чем заданный уровень значимости {:.2f}. У нас нет оснований отвергнуть нулевую гипотезу.'.format(alpha))\n",
        "      "
      ]
    },
    {
      "attachments": {},
      "cell_type": "markdown",
      "metadata": {},
      "source": [
        "### Наблюдается ли ежегодный рост зарплат у специалистов Data Scientist?\n",
        "\n",
        "**Сформулируем нулевую и альтернативные гипотезы**\n",
        "\n",
        "*Нулевая гипотеза* ($H_0$): Заработная плата (ЗП) в 2020 году ($μ_1$) статистически больше или равна ЗП 2021 ($μ_2$), а та больше или равна ЗП 2022 ($μ_3$).\n",
        "\n",
        "$$ H_0 : μ_1 >= μ_2 >= μ_3$$\n",
        "\n",
        "*Альтернативная гипотеза* ($H_1$): Заработная плата (ЗП) в 2020 году ($μ_1$) меньше ЗП 2021 ($μ_2$), и меньше ЗП 2022 ($μ_3$).\n",
        "\n",
        "$$ H_1 : μ_1 < μ_2 < μ_3$$"
      ]
    },
    {
      "attachments": {},
      "cell_type": "markdown",
      "metadata": {
        "id": "Yi8l7ZWSl7Ze"
      },
      "source": [
        "**Проверка на нормальность**\n",
        "\n",
        "С помощью теста Шапиро-Уилка проверим, распределён ли признак нормально. Напомним гипотезы теста Шапиро-Уилка:\n",
        "\n",
        "*Нулевая гипотеза* ($H_0$): распределение данных является нормальным.\n",
        "\n",
        "*Альтернативная гипотеза* ($H_1$): распределение данных отлично от нормального."
      ]
    },
    {
      "cell_type": "code",
      "execution_count": 42,
      "metadata": {},
      "outputs": [
        {
          "name": "stdout",
          "output_type": "stream",
          "text": [
            "p-value = 0.000\n",
            "p-значение меньше, чем заданный уровень значимости 0.05. Распределение отлично от нормального\n",
            "p-value = 0.000\n",
            "p-значение меньше, чем заданный уровень значимости 0.05. Распределение отлично от нормального\n",
            "p-value = 0.000\n",
            "p-значение меньше, чем заданный уровень значимости 0.05. Распределение отлично от нормального\n"
          ]
        }
      ],
      "source": [
        "# формируем группы\n",
        "salary_2020 = data.loc[data['work_year']==2020, 'salary_in_usd'] \n",
        "salary_2021 = data.loc[data['work_year']==2021, 'salary_in_usd'] \n",
        "salary_2022 = data.loc[data['work_year']==2022, 'salary_in_usd'] \n",
        "\n",
        "# проводим тест Шапиро-Уилка\n",
        "result = stats.shapiro(salary_2020)\n",
        "decision_normality(result[1]) # потому что возвращает 2 элемента статистику и P-value, нам нужно только второе\n",
        "\n",
        "result = stats.shapiro(salary_2021)\n",
        "decision_normality(result[1])\n",
        "\n",
        "result = stats.shapiro(salary_2022)\n",
        "decision_normality(result[1])"
      ]
    },
    {
      "attachments": {},
      "cell_type": "markdown",
      "metadata": {},
      "source": [
        "**Выберем подходящий статистический тест**\n",
        "\n",
        "Для выбора нужного теста воспользуемся алгоритмом выбора теста. Для этого ответим на следующие вопросы:\n",
        "* Какой тип у признака «salary_in_usd»? — Количественный\n",
        "* Сколько сравниваемых групп? — 3\n",
        "* Группы зависимы? — Нет, т.к. собирались с разных людей\n",
        "* Признак распределён по нормальному закону? — Нет\n",
        "\n",
        "Для проверки двухсторнней гипотезы всех выборок можно использовать критерий Краскела — Уоллиса. А для односторонних попарных проверок - U-КРИТЕРИЙ МАННА — УИТНИ\n",
        "\n",
        "**Проведём тест**"
      ]
    },
    {
      "cell_type": "code",
      "execution_count": 160,
      "metadata": {},
      "outputs": [
        {
          "name": "stdout",
          "output_type": "stream",
          "text": [
            "p-value = 0.000\n",
            "p-значение меньше, чем заданный уровень значимости 0.05. Отвергаем нулевую гипотезу в пользу альтернативной.\n",
            "p-value = 0.464\n",
            "p-значение больше, чем заданный уровень значимости 0.05. У нас нет оснований отвергнуть нулевую гипотезу.\n",
            "p-value = 0.000\n",
            "p-значение меньше, чем заданный уровень значимости 0.05. Отвергаем нулевую гипотезу в пользу альтернативной.\n"
          ]
        }
      ],
      "source": [
        "# проводим тест Краскела — Уоллиса\n",
        "_, p = stats.kruskal(salary_2020, salary_2021, salary_2022) # альтернативная гипотеза, что они не равны\n",
        "decision_hypothesis(p)\n",
        "\n",
        "# проводим тест U-КРИТЕРИЙ МАННА — УИТНИ для сравнения μ_1 и μ_2\n",
        "_, p = stats.mannwhitneyu(salary_2020, salary_2021, alternative='two-sided') # альтернативная гипотеза, что 2020<2021\n",
        "decision_hypothesis(p)\n",
        "\n",
        "# проводим тест U-КРИТЕРИЙ МАННА — УИТНИ для сравнения μ_2 и μ_3\n",
        "_, p = stats.mannwhitneyu(salary_2021, salary_2022, alternative='less') # альтернативная гипотеза, что 2021<2022\n",
        "decision_hypothesis(p)"
      ]
    },
    {
      "attachments": {},
      "cell_type": "markdown",
      "metadata": {},
      "source": [
        "Вывод: ЗП отличается год к году, однако рост с 2020 на 2021 г. не очевиден, а вот рост ЗП в сфере Data Science с 2021 на 2022 г. явно был"
      ]
    },
    {
      "attachments": {},
      "cell_type": "markdown",
      "metadata": {},
      "source": [
        "### Влияет ли опыт работы ('experience_level') на зарплату у специалистов Data Scientist? Предполагаем, что чем выше опыт, тем выше ЗП\n",
        "\n",
        "**Сформулируем нулевую и альтернативные гипотезы**\n",
        "\n",
        "*Нулевая гипотеза* ($H_0$): Заработная плата (ЗП) EN ($μ_1$) статистически больше или равна ЗП MI ($μ_2$), больше или равна ЗП SE ($μ_3$) и больше или равна EX ($μ_4$)  \n",
        "\n",
        "$$ H_0 : μ_1 >= μ_2 >= μ_3 >= μ_4$$\n",
        "\n",
        "*Альтернативная гипотеза* ($H_1$): Заработная плата (ЗП) EN ($μ_1$) ниже ЗП MI ($μ_2$), ниже ЗП SE ($μ_3$) и ниже EX ($μ_4$).\n",
        "\n",
        "$$ H_1 : μ_1 < μ_2 < μ_3 < μ_4$$\n",
        "\n",
        "С помощью теста Шапиро-Уилка проверим, распределён ли признак нормально."
      ]
    },
    {
      "cell_type": "code",
      "execution_count": 161,
      "metadata": {},
      "outputs": [
        {
          "name": "stdout",
          "output_type": "stream",
          "text": [
            "p-value = 0.000\n",
            "p-значение меньше, чем заданный уровень значимости 0.05. Распределение отлично от нормального\n",
            "p-value = 0.000\n",
            "p-значение меньше, чем заданный уровень значимости 0.05. Распределение отлично от нормального\n",
            "p-value = 0.000\n",
            "p-значение меньше, чем заданный уровень значимости 0.05. Распределение отлично от нормального\n",
            "p-value = 0.001\n",
            "p-значение меньше, чем заданный уровень значимости 0.05. Распределение отлично от нормального\n"
          ]
        }
      ],
      "source": [
        "# формируем группы\n",
        "salary_experience_EN = data.loc[data['experience_level']=='EN', 'salary_in_usd'] \n",
        "salary_experience_MI = data.loc[data['experience_level']=='MI', 'salary_in_usd'] \n",
        "salary_experience_SE = data.loc[data['experience_level']=='SE', 'salary_in_usd'] \n",
        "salary_experience_EX = data.loc[data['experience_level']=='EX', 'salary_in_usd'] \n",
        "#display(salary_experience_EN,salary_experience_MI, salary_experience_SE, salary_experience_EX)\n",
        "\n",
        "# проводим тест Шапиро-Уилка\n",
        "result = stats.shapiro(salary_experience_EN)\n",
        "decision_normality(result[1]) # потому что возвращает 2 элемента статистику и P-value, нам нужно только второе\n",
        "\n",
        "result = stats.shapiro(salary_experience_MI)\n",
        "decision_normality(result[1])\n",
        "\n",
        "result = stats.shapiro(salary_experience_SE)\n",
        "decision_normality(result[1])\n",
        "\n",
        "result = stats.shapiro(salary_experience_EX)\n",
        "decision_normality(result[1])"
      ]
    },
    {
      "attachments": {},
      "cell_type": "markdown",
      "metadata": {},
      "source": [
        "**Выберем подходящий статистический тест**\n",
        "\n",
        "Для выбора нужного теста воспользуемся алгоритмом выбора теста. Для этого ответим на следующие вопросы:\n",
        "* Какой тип у признака «salary_in_usd»? — Количественный\n",
        "* Сколько сравниваемых групп? — 4\n",
        "* Группы зависимы? — Нет, т.к. собирались с разных людей\n",
        "* Признак распределён по нормальному закону? — Нет\n",
        "\n",
        "Для проверки двухсторнней гипотезы всех выборок можно использовать критерий Краскела — Уоллиса. А для односторонних попарных проверок - U-КРИТЕРИЙ МАННА — УИТНИ\n",
        "\n",
        "**Проведём тест**"
      ]
    },
    {
      "cell_type": "code",
      "execution_count": 162,
      "metadata": {},
      "outputs": [
        {
          "name": "stdout",
          "output_type": "stream",
          "text": [
            "p-value = 0.000\n",
            "p-значение меньше, чем заданный уровень значимости 0.05. Отвергаем нулевую гипотезу в пользу альтернативной.\n",
            "p-value = 0.000\n",
            "p-значение меньше, чем заданный уровень значимости 0.05. Отвергаем нулевую гипотезу в пользу альтернативной.\n",
            "p-value = 0.000\n",
            "p-значение меньше, чем заданный уровень значимости 0.05. Отвергаем нулевую гипотезу в пользу альтернативной.\n",
            "p-value = 0.002\n",
            "p-значение меньше, чем заданный уровень значимости 0.05. Отвергаем нулевую гипотезу в пользу альтернативной.\n"
          ]
        }
      ],
      "source": [
        "# проводим тест Краскела — Уоллиса\n",
        "_, p = stats.kruskal(salary_experience_EN, salary_experience_MI, salary_experience_SE, salary_experience_EX) # альтернативная гипотеза, что они не равны\n",
        "decision_hypothesis(p)\n",
        "\n",
        "# проводим тест U-КРИТЕРИЙ МАННА — УИТНИ для сравнения μ_1 и μ_2\n",
        "_, p = stats.mannwhitneyu(salary_experience_EN, salary_experience_MI, alternative='less') # альтернативная гипотеза, что EN<MI\n",
        "decision_hypothesis(p)\n",
        "\n",
        "# проводим тест U-КРИТЕРИЙ МАННА — УИТНИ для сравнения μ_2 и μ_3\n",
        "_, p = stats.mannwhitneyu(salary_experience_MI, salary_experience_SE, alternative='less') # альтернативная гипотеза, что MI<SE\n",
        "decision_hypothesis(p)\n",
        "\n",
        "# проводим тест U-КРИТЕРИЙ МАННА — УИТНИ для сравнения μ_3 и μ_4\n",
        "_, p = stats.mannwhitneyu(salary_experience_SE, salary_experience_EX, alternative='less') # альтернативная гипотеза, что SE<EX\n",
        "decision_hypothesis(p)"
      ]
    },
    {
      "attachments": {},
      "cell_type": "markdown",
      "metadata": {},
      "source": [
        "По мере роста экспертности в сфере Data Science ЗП специалистов действительно растет"
      ]
    },
    {
      "attachments": {},
      "cell_type": "markdown",
      "metadata": {},
      "source": [
        "### Влияет ли тип занятости ('employment_type') на зарплату у специалистов Data Scientist?\n",
        "\n",
        "*Нулевая гипотеза*: ЗП не отличается в разных типах занятости: PT — неполный рабочий день ($μ_1$), FT — полный рабочий день ($μ_2$), CT — контракт ($μ_3$), FL — фриланс($μ_4$).\n",
        "\n",
        "$$ H_0 : μ_1 = μ_2 = μ_3 = μ_4$$\n",
        "\n",
        "*Альтернативная гипотеза*: ЗП отличается в разных типах занятости: PT — неполный рабочий день ($μ_1$), FT — полный рабочий день ($μ_2$), CT — контракт ($μ_3$), FL — фриланс($μ_4$).\n",
        "\n",
        "$$ H_1 : μ_1 \\neq μ_2 \\neq μ_3 \\neq μ_4$$"
      ]
    },
    {
      "cell_type": "code",
      "execution_count": 163,
      "metadata": {},
      "outputs": [
        {
          "name": "stdout",
          "output_type": "stream",
          "text": [
            "p-value = 0.023\n",
            "p-значение меньше, чем заданный уровень значимости 0.05. Распределение отлично от нормального\n",
            "p-value = 0.000\n",
            "p-значение меньше, чем заданный уровень значимости 0.05. Распределение отлично от нормального\n",
            "p-value = 0.406\n",
            "p-значение больше, чем заданный уровень значимости 0.05. Распределение является нормальным\n",
            "p-value = 0.507\n",
            "p-значение больше, чем заданный уровень значимости 0.05. Распределение является нормальным\n"
          ]
        }
      ],
      "source": [
        "# формируем группы\n",
        "salary_employment_PT = data.loc[data['employment_type']=='PT', 'salary_in_usd'] \n",
        "salary_employment_FT = data.loc[data['employment_type']=='FT', 'salary_in_usd'] \n",
        "salary_employment_CT = data.loc[data['employment_type']=='CT', 'salary_in_usd'] \n",
        "salary_employment_FL = data.loc[data['employment_type']=='FL', 'salary_in_usd'] \n",
        "\n",
        "# проводим тест Шапиро-Уилка\n",
        "result = stats.shapiro(salary_employment_PT)\n",
        "decision_normality(result[1])\n",
        "\n",
        "result = stats.shapiro(salary_employment_FT)\n",
        "decision_normality(result[1])\n",
        "\n",
        "result = stats.shapiro(salary_employment_CT)\n",
        "decision_normality(result[1])\n",
        "\n",
        "result = stats.shapiro(salary_employment_FL)\n",
        "decision_normality(result[1])"
      ]
    },
    {
      "attachments": {},
      "cell_type": "markdown",
      "metadata": {},
      "source": [
        "2 из 4-ех категорий данных нормально распределны, но т.к. хотя бы один - не нормально распределен, считаем по непараметрическим тестам"
      ]
    },
    {
      "attachments": {},
      "cell_type": "markdown",
      "metadata": {},
      "source": [
        "**Выберем подходящий статистический тест**\n",
        "\n",
        "Для выбора нужного теста воспользуемся алгоритмом выбора теста. Для этого ответим на следующие вопросы:\n",
        "* Какой тип у признака «salary_in_usd»? — Количественный\n",
        "* Сколько сравниваемых групп? — 4\n",
        "* Группы зависимы? — Нет\n",
        "* Признак распределён по нормальному закону? — Нет\n",
        "\n",
        "Для проверки нашей гипотезы можно использовать критерий Краскела — Уоллиса.\n",
        "\n",
        "**Проведём тест**"
      ]
    },
    {
      "cell_type": "code",
      "execution_count": 164,
      "metadata": {},
      "outputs": [
        {
          "name": "stdout",
          "output_type": "stream",
          "text": [
            "p-value = 0.000\n",
            "p-значение меньше, чем заданный уровень значимости 0.05. Отвергаем нулевую гипотезу в пользу альтернативной.\n",
            "p-value = 0.000\n",
            "p-значение меньше, чем заданный уровень значимости 0.05. Отвергаем нулевую гипотезу в пользу альтернативной.\n",
            "p-value = 0.405\n",
            "p-значение больше, чем заданный уровень значимости 0.05. У нас нет оснований отвергнуть нулевую гипотезу.\n",
            "p-value = 0.085\n",
            "p-значение больше, чем заданный уровень значимости 0.05. У нас нет оснований отвергнуть нулевую гипотезу.\n",
            "p-value = 0.477\n",
            "p-значение больше, чем заданный уровень значимости 0.05. У нас нет оснований отвергнуть нулевую гипотезу.\n"
          ]
        }
      ],
      "source": [
        "# проводим тест Краскела — Уоллиса\n",
        "_, p = stats.kruskal(salary_employment_PT, salary_employment_FT, salary_employment_CT, salary_employment_FL) # альтернативная гипотеза, что они не равны\n",
        "decision_hypothesis(p)\n",
        "\n",
        "# проводим тест U-КРИТЕРИЙ МАННА — УИТНИ для сравнения μ_1 и μ_2\n",
        "_, p = stats.mannwhitneyu(salary_employment_PT, salary_employment_FT, alternative='less') # альтернативная гипотеза, что PT<FT\n",
        "decision_hypothesis(p)\n",
        "\n",
        "# проводим тест U-КРИТЕРИЙ МАННА — УИТНИ для сравнения μ_2 и μ_3\n",
        "_, p = stats.mannwhitneyu(salary_employment_FT, salary_employment_CT, alternative='two-sided') # альтернативная гипотеза, что FT и CT не равны\n",
        "decision_hypothesis(p)\n",
        "\n",
        "# проводим тест U-КРИТЕРИЙ МАННА — УИТНИ для сравнения μ_3 и μ_4\n",
        "_, p = stats.mannwhitneyu(salary_employment_CT, salary_employment_FL, alternative='two-sided') # альтернативная гипотеза, что CT и FL не равны\n",
        "decision_hypothesis(p)\n",
        "\n",
        "# проводим тест U-КРИТЕРИЙ МАННА — УИТНИ для сравнения μ_1 и μ_4\n",
        "_, p = stats.mannwhitneyu(salary_employment_FL, salary_employment_PT, alternative='two-sided') # альтернативная гипотеза, что PT и FL не равны\n",
        "decision_hypothesis(p)"
      ]
    },
    {
      "attachments": {},
      "cell_type": "markdown",
      "metadata": {},
      "source": [
        "Мы можем наверняка говорить только про полную и неполную занятость - ЗП при неполной занятости ниже. Про связь остальных типов занятости ничего точно сказать нельзя"
      ]
    },
    {
      "attachments": {},
      "cell_type": "markdown",
      "metadata": {},
      "source": [
        "### Влияет ли доля удаленной работы ('remote_ratio') на зарплату у специалистов Data Scientist?\n",
        "\n",
        "*Нулевая гипотеза*: ЗП не отличается в разных коэффициентах Remote-ratio: 0 — удалённой работы нет ($μ_1$), 50 — частично удалённая работа ($μ_2$), 100 — полностью удалённая работа ($μ_3$).\n",
        "\n",
        "$$ H_0 : μ_1 = μ_2 = μ_3$$\n",
        "\n",
        "*Альтернативная гипотеза*: ЗП не отличается в разных коэффициентах Remote-ratio: 0 — удалённой работы нет ($μ_1$), 50 — частично удалённая работа ($μ_2$), 100 — полностью удалённая работа ($μ_3$).\n",
        "\n",
        "$$ H_1 : μ_1 \\neq μ_2 \\neq μ_3$$"
      ]
    },
    {
      "cell_type": "code",
      "execution_count": 165,
      "metadata": {},
      "outputs": [
        {
          "name": "stdout",
          "output_type": "stream",
          "text": [
            "p-value = 0.000\n",
            "p-значение меньше, чем заданный уровень значимости 0.05. Распределение отлично от нормального\n",
            "p-value = 0.000\n",
            "p-значение меньше, чем заданный уровень значимости 0.05. Распределение отлично от нормального\n",
            "p-value = 0.000\n",
            "p-значение меньше, чем заданный уровень значимости 0.05. Распределение отлично от нормального\n"
          ]
        }
      ],
      "source": [
        "# формируем группы\n",
        "salary_remote_ratio_0 = data.loc[data['remote_ratio']==0, 'salary_in_usd'] \n",
        "salary_remote_ratio_50 = data.loc[data['remote_ratio']==50, 'salary_in_usd'] \n",
        "salary_remote_ratio_100 = data.loc[data['remote_ratio']==100, 'salary_in_usd'] \n",
        "#display(salary_remote_ratio_0,salary_remote_ratio_50, salary_remote_ratio_100)\n",
        "\n",
        "# проводим тест Шапиро-Уилка\n",
        "result = stats.shapiro(salary_remote_ratio_0)\n",
        "decision_normality(result[1])\n",
        "\n",
        "result = stats.shapiro(salary_remote_ratio_50)\n",
        "decision_normality(result[1])\n",
        "\n",
        "result = stats.shapiro(salary_remote_ratio_100)\n",
        "decision_normality(result[1])"
      ]
    },
    {
      "attachments": {},
      "cell_type": "markdown",
      "metadata": {},
      "source": [
        "**Выберем подходящий статистический тест**\n",
        "\n",
        "Для выбора нужного теста воспользуемся алгоритмом выбора теста. Для этого ответим на следующие вопросы:\n",
        "* Какой тип у признака «salary_in_usd»? — Количественный\n",
        "* Сколько сравниваемых групп? — 3\n",
        "* Группы зависимы? — Нет\n",
        "* Признак распределён по нормальному закону? — Нет\n",
        "\n",
        "Для проверки нашей гипотезы можно использовать критерий Краскела — Уоллиса. А для уточнения взаимосвязи используем тест U-КРИТЕРИЙ МАННА — УИТНИ\n",
        "\n",
        "**Проведём тест**"
      ]
    },
    {
      "cell_type": "code",
      "execution_count": 166,
      "metadata": {},
      "outputs": [
        {
          "name": "stdout",
          "output_type": "stream",
          "text": [
            "p-value = 0.000\n",
            "p-значение меньше, чем заданный уровень значимости 0.05. Отвергаем нулевую гипотезу в пользу альтернативной.\n",
            "p-value = 0.000\n",
            "p-значение меньше, чем заданный уровень значимости 0.05. Отвергаем нулевую гипотезу в пользу альтернативной.\n",
            "p-value = 0.000\n",
            "p-значение меньше, чем заданный уровень значимости 0.05. Отвергаем нулевую гипотезу в пользу альтернативной.\n",
            "p-value = 0.007\n",
            "p-значение меньше, чем заданный уровень значимости 0.05. Отвергаем нулевую гипотезу в пользу альтернативной.\n"
          ]
        }
      ],
      "source": [
        "# проводим тест Краскела — Уоллиса\n",
        "_, p = stats.kruskal(salary_remote_ratio_0, salary_remote_ratio_50, salary_remote_ratio_100) # альтернативная гипотеза, что они не равны\n",
        "decision_hypothesis(p)\n",
        "\n",
        "# проводим тест U-КРИТЕРИЙ МАННА — УИТНИ для сравнения μ_1 и μ_2\n",
        "_, p = stats.mannwhitneyu(salary_remote_ratio_0, salary_remote_ratio_50, alternative='greater') # альтернативная гипотеза, что RR_0>RR_50\n",
        "decision_hypothesis(p)\n",
        "\n",
        "# проводим тест U-КРИТЕРИЙ МАННА — УИТНИ для сравнения μ_2 и μ_3\n",
        "_, p = stats.mannwhitneyu(salary_remote_ratio_50, salary_remote_ratio_100, alternative='less') # альтернативная гипотеза, что RR_50<RR_100\n",
        "decision_hypothesis(p)\n",
        "\n",
        "# проводим тест U-КРИТЕРИЙ МАННА — УИТНИ для сравнения μ_1 и μ_3\n",
        "_, p = stats.mannwhitneyu(salary_remote_ratio_0, salary_remote_ratio_100, alternative='less') # альтернативная гипотеза, что RR_0<RR_100\n",
        "decision_hypothesis(p)\n"
      ]
    },
    {
      "attachments": {},
      "cell_type": "markdown",
      "metadata": {},
      "source": [
        "Можно сделать вывод, что объем удаленной работы действительно связан с объемом ЗП, но логика нелинейная: больше всего ЗП у тех, кто работает 100% на удаленке, потом идут те, кто практически не имеет удаленной работы, а вот заработок тех, у кого в удаленном формате половина работы - самый низкий"
      ]
    },
    {
      "attachments": {},
      "cell_type": "markdown",
      "metadata": {},
      "source": [
        "### Влияет ли размер компании ('company_size') на зарплату у специалистов Data Scientist?\n",
        "\n",
        "*Нулевая гипотеза*: ЗП не отличается в компаниях разных размеров: S ($μ_1$), М ($μ_2$), L ($μ_3$).\n",
        "\n",
        "$$ H_0 : μ_1 = μ_2 = μ_3$$\n",
        "\n",
        "*Альтернативная гипотеза*: ЗП отличается в компаниях разных размеров: S ($μ_1$), М ($μ_2$), L ($μ_3$)\n",
        "\n",
        "$$ H_1 : μ_1 \\neq μ_2 \\neq μ_3$$"
      ]
    },
    {
      "cell_type": "code",
      "execution_count": 167,
      "metadata": {},
      "outputs": [
        {
          "name": "stdout",
          "output_type": "stream",
          "text": [
            "p-value = 0.000\n",
            "p-значение меньше, чем заданный уровень значимости 0.05. Распределение отлично от нормального\n",
            "p-value = 0.000\n",
            "p-значение меньше, чем заданный уровень значимости 0.05. Распределение отлично от нормального\n",
            "p-value = 0.000\n",
            "p-значение меньше, чем заданный уровень значимости 0.05. Распределение отлично от нормального\n"
          ]
        }
      ],
      "source": [
        "# формируем группы\n",
        "salary_company_size_S = data.loc[data['company_size']=='S', 'salary_in_usd'] \n",
        "salary_company_size_M = data.loc[data['company_size']=='M', 'salary_in_usd'] \n",
        "salary_company_size_L = data.loc[data['company_size']=='L', 'salary_in_usd'] \n",
        "#display(salary_company_size_S,salary_company_size_M, salary_company_size_L)\n",
        "\n",
        "# проводим тест Шапиро-Уилка\n",
        "result = stats.shapiro(salary_company_size_S)\n",
        "decision_normality(result[1])\n",
        "\n",
        "result = stats.shapiro(salary_company_size_M)\n",
        "decision_normality(result[1])\n",
        "\n",
        "result = stats.shapiro(salary_company_size_L)\n",
        "decision_normality(result[1])"
      ]
    },
    {
      "attachments": {},
      "cell_type": "markdown",
      "metadata": {},
      "source": [
        "**Выберем подходящий статистический тест**\n",
        "\n",
        "Для выбора нужного теста воспользуемся алгоритмом выбора теста. Для этого ответим на следующие вопросы:\n",
        "* Какой тип у признака «salary_in_usd»? — Количественный\n",
        "* Сколько сравниваемых групп? — 3\n",
        "* Группы зависимы? — Нет\n",
        "* Признак распределён по нормальному закону? — Нет\n",
        "\n",
        "Для проверки нашей гипотезы можно использовать критерий Краскела — Уоллиса.\n",
        "\n",
        "**Проведём тест**"
      ]
    },
    {
      "cell_type": "code",
      "execution_count": 168,
      "metadata": {},
      "outputs": [
        {
          "name": "stdout",
          "output_type": "stream",
          "text": [
            "p-value = 0.000\n",
            "p-значение меньше, чем заданный уровень значимости 0.05. Отвергаем нулевую гипотезу в пользу альтернативной.\n",
            "p-value = 0.000\n",
            "p-значение меньше, чем заданный уровень значимости 0.05. Отвергаем нулевую гипотезу в пользу альтернативной.\n",
            "p-value = 0.000\n",
            "p-значение меньше, чем заданный уровень значимости 0.05. Отвергаем нулевую гипотезу в пользу альтернативной.\n",
            "p-value = 0.216\n",
            "p-значение больше, чем заданный уровень значимости 0.05. У нас нет оснований отвергнуть нулевую гипотезу.\n"
          ]
        }
      ],
      "source": [
        "# проводим тест Краскела — Уоллиса\n",
        "_, p = stats.kruskal(salary_company_size_S, salary_company_size_M, salary_company_size_L) # альтернативная гипотеза, что они не равны\n",
        "decision_hypothesis(p)\n",
        "\n",
        "# проводим тест U-КРИТЕРИЙ МАННА — УИТНИ для сравнения μ_1 и μ_3\n",
        "_, p = stats.mannwhitneyu(salary_company_size_S, salary_company_size_L, alternative='less') # альтернативная гипотеза, что S<L\n",
        "decision_hypothesis(p)\n",
        "\n",
        "# проводим тест U-КРИТЕРИЙ МАННА — УИТНИ для сравнения μ_1 и μ_2\n",
        "_, p = stats.mannwhitneyu(salary_company_size_S, salary_company_size_M, alternative='less') # альтернативная гипотеза, что S<M\n",
        "decision_hypothesis(p)\n",
        "\n",
        "# проводим тест U-КРИТЕРИЙ МАННА — УИТНИ для сравнения μ_2 и μ_3\n",
        "_, p = stats.mannwhitneyu(salary_company_size_M, salary_company_size_L, alternative='two-sided') # альтернативная гипотеза, что M и L не равны\n",
        "decision_hypothesis(p)"
      ]
    },
    {
      "attachments": {},
      "cell_type": "markdown",
      "metadata": {},
      "source": [
        "Можно заключить, что размер компании действительно влияет на ЗП сотрудников: малые компании платят меньше, чем средние и крупные. Однако, кто между M и L лидирует наверняка сказать нельзя"
      ]
    },
    {
      "attachments": {},
      "cell_type": "markdown",
      "metadata": {},
      "source": [
        "### Влияет ли локация сотрудника (расположен он в одном и том же регионе, что и работодатель или нет) на его заработную плату?\n",
        "\n",
        "*Нулевая гипотеза*: Если сотрудник живет в том же регионе, что и работодатель ($μ_1$), то его ЗП статистически ниже или равна сотрудникам, которые живут в отличном от работодателя регионе ($μ_2$)\n",
        "\n",
        "$$ H_0 : μ_1 <= μ_2$$\n",
        "\n",
        "*Альтернативная гипотеза*: Если сотрудник живет в том же регионе, что и работодатель ($μ_1$), то его ЗП статистически выше ЗП сотрудников, которые живут в отличном от работодателя регионе ($μ_2$)\n",
        "\n",
        "$$ H_1 : μ_1 > μ_2$$"
      ]
    },
    {
      "cell_type": "code",
      "execution_count": 169,
      "metadata": {},
      "outputs": [
        {
          "name": "stdout",
          "output_type": "stream",
          "text": [
            "p-value = 0.000\n",
            "p-значение меньше, чем заданный уровень значимости 0.05. Распределение отлично от нормального\n",
            "p-value = 0.001\n",
            "p-значение меньше, чем заданный уровень значимости 0.05. Распределение отлично от нормального\n"
          ]
        }
      ],
      "source": [
        "# формируем группы\n",
        "salary_regions_equal = data.loc[data['equal_regions']==True, 'salary_in_usd'] \n",
        "salary_regions_non_equal = data.loc[data['equal_regions']==False, 'salary_in_usd'] \n",
        "\n",
        "# проводим тест Шапиро-Уилка\n",
        "result = stats.shapiro(salary_regions_equal)\n",
        "decision_normality(result[1])\n",
        "\n",
        "result = stats.shapiro(salary_regions_non_equal)\n",
        "decision_normality(result[1])"
      ]
    },
    {
      "attachments": {},
      "cell_type": "markdown",
      "metadata": {},
      "source": [
        "**Выберем подходящий статистический тест**\n",
        "\n",
        "Для выбора нужного теста воспользуемся алгоритмом выбора теста. Для этого ответим на следующие вопросы:\n",
        "* Какой тип у признака «salary_in_usd»? — Количественный\n",
        "* Сколько сравниваемых групп? — 2\n",
        "* Группы зависимы? — Нет\n",
        "* Признак распределён по нормальному закону? — Нет\n",
        "\n",
        "Для проверки нашей гипотезы можно использовать U-критерий Манна-Уитни.\n",
        "\n",
        "**Проведём тест**"
      ]
    },
    {
      "cell_type": "code",
      "execution_count": 172,
      "metadata": {},
      "outputs": [
        {
          "name": "stdout",
          "output_type": "stream",
          "text": [
            "p-value = 0.000\n",
            "p-значение меньше, чем заданный уровень значимости 0.05. Отвергаем нулевую гипотезу в пользу альтернативной.\n"
          ]
        }
      ],
      "source": [
        "# проводим тест U-КРИТЕРИЙ МАННА — УИТНИ\n",
        "_, p = stats.mannwhitneyu(salary_regions_equal, salary_regions_non_equal, alternative='greater') # альтернативная гипотеза, что equal>non equal\n",
        "decision_hypothesis(p)"
      ]
    },
    {
      "attachments": {},
      "cell_type": "markdown",
      "metadata": {},
      "source": [
        "Действительно, если компания и сотрудник находятся в одном регионе, сотрудник может получать больше, чем когда они находятся в разных"
      ]
    },
    {
      "attachments": {},
      "cell_type": "markdown",
      "metadata": {},
      "source": [
        "### Влияет ли локация сотрудника (расположен он в одном и том же регионе, что и работодатель или нет) на его объем удаленной работы?\n",
        "\n",
        "*Нулевая гипотеза*: между тем, где живет сотрудник относительно работодателя и коэффициентом удаленной работы нет взаимосвязи (признаки независимы).\n",
        "\n",
        "*Альтернативная гипотеза*: между тем, где живет сотрудник относительно работодателя и коэффициентом удаленной работы есть взаимосвязь (признаки зависимы).\n",
        "\n",
        "**Выберем подходящий статистический тест**\n",
        "\n",
        "Для выбора нужного теста воспользуемся алгоритмом выбора теста. Для этого ответим на следующие вопросы:\n",
        "* Какой тип у признака «Remote-ratio»? — Категориальный.\n",
        "* Сколько сравниваемых групп? — Две.\n",
        "* Проверяется независимость групп? — Да.\n",
        "\n",
        "Для проверки нашей гипотезы можно использовать критерий ${\\chi}^2$ (хи-квадрат).\n",
        "\n",
        "**Проведём тест**"
      ]
    },
    {
      "cell_type": "code",
      "execution_count": 190,
      "metadata": {},
      "outputs": [
        {
          "data": {
            "text/html": [
              "<div>\n",
              "<style scoped>\n",
              "    .dataframe tbody tr th:only-of-type {\n",
              "        vertical-align: middle;\n",
              "    }\n",
              "\n",
              "    .dataframe tbody tr th {\n",
              "        vertical-align: top;\n",
              "    }\n",
              "\n",
              "    .dataframe thead th {\n",
              "        text-align: right;\n",
              "    }\n",
              "</style>\n",
              "<table border=\"1\" class=\"dataframe\">\n",
              "  <thead>\n",
              "    <tr style=\"text-align: right;\">\n",
              "      <th>equal_regions</th>\n",
              "      <th>False</th>\n",
              "      <th>True</th>\n",
              "    </tr>\n",
              "    <tr>\n",
              "      <th>remote_ratio</th>\n",
              "      <th></th>\n",
              "      <th></th>\n",
              "    </tr>\n",
              "  </thead>\n",
              "  <tbody>\n",
              "    <tr>\n",
              "      <th>0</th>\n",
              "      <td>4</td>\n",
              "      <td>123</td>\n",
              "    </tr>\n",
              "    <tr>\n",
              "      <th>50</th>\n",
              "      <td>9</td>\n",
              "      <td>90</td>\n",
              "    </tr>\n",
              "    <tr>\n",
              "      <th>100</th>\n",
              "      <td>38</td>\n",
              "      <td>343</td>\n",
              "    </tr>\n",
              "  </tbody>\n",
              "</table>\n",
              "</div>"
            ],
            "text/plain": [
              "equal_regions  False  True \n",
              "remote_ratio               \n",
              "0                  4    123\n",
              "50                 9     90\n",
              "100               38    343"
            ]
          },
          "metadata": {},
          "output_type": "display_data"
        },
        {
          "data": {
            "text/html": [
              "<div>\n",
              "<style scoped>\n",
              "    .dataframe tbody tr th:only-of-type {\n",
              "        vertical-align: middle;\n",
              "    }\n",
              "\n",
              "    .dataframe tbody tr th {\n",
              "        vertical-align: top;\n",
              "    }\n",
              "\n",
              "    .dataframe thead th {\n",
              "        text-align: right;\n",
              "    }\n",
              "</style>\n",
              "<table border=\"1\" class=\"dataframe\">\n",
              "  <thead>\n",
              "    <tr style=\"text-align: right;\">\n",
              "      <th>equal_regions</th>\n",
              "      <th>False</th>\n",
              "      <th>True</th>\n",
              "    </tr>\n",
              "    <tr>\n",
              "      <th>remote_ratio</th>\n",
              "      <th></th>\n",
              "      <th></th>\n",
              "    </tr>\n",
              "  </thead>\n",
              "  <tbody>\n",
              "    <tr>\n",
              "      <th>50</th>\n",
              "      <td>9</td>\n",
              "      <td>90</td>\n",
              "    </tr>\n",
              "    <tr>\n",
              "      <th>100</th>\n",
              "      <td>38</td>\n",
              "      <td>343</td>\n",
              "    </tr>\n",
              "  </tbody>\n",
              "</table>\n",
              "</div>"
            ],
            "text/plain": [
              "equal_regions  False  True \n",
              "remote_ratio               \n",
              "50                 9     90\n",
              "100               38    343"
            ]
          },
          "metadata": {},
          "output_type": "display_data"
        },
        {
          "name": "stdout",
          "output_type": "stream",
          "text": [
            "p-value = 0.941\n",
            "p-значение больше, чем заданный уровень значимости 0.05. У нас нет оснований отвергнуть нулевую гипотезу.\n"
          ]
        }
      ],
      "source": [
        "# составляем таблицу сопряжённости\n",
        "cross_table = pd.crosstab(data['remote_ratio'], data['equal_regions'])\n",
        "display(cross_table)\n",
        "\n",
        "# Условием проведения теста является минимум 5 наблюдений в каждой ячейки. Мы не можем проверить уровень Remote-ratio = 0 при условиях когда работник и работодатель в разных локациях. \n",
        "# Однако, этот факт позволяет нам предположить, что если работник и работодатель находятся в разных локациях, там должа присутствовать часть удаленной работы, и мы можем исключить \n",
        "# Remote-ratio = 0 и проверить соответствие Remote-ratio = 50 и 100\n",
        "\n",
        "RR_50_and_100 = data[data['remote_ratio']>0] \n",
        "\n",
        "#display(RR_50_and_100)\n",
        "\n",
        "# проводим тест на уменьшенных данных\n",
        "cross_table = pd.crosstab(RR_50_and_100['remote_ratio'], RR_50_and_100['equal_regions'])\n",
        "display(cross_table)\n",
        "\n",
        "_, p, _, _ = stats.chi2_contingency(cross_table) \n",
        "decision_hypothesis(p)"
      ]
    },
    {
      "attachments": {},
      "cell_type": "markdown",
      "metadata": {},
      "source": [
        "Не существует статистически значимой взаимосвязи между расположением сотрудника относительно работодателя и его объемом удаленной работы"
      ]
    },
    {
      "attachments": {},
      "cell_type": "markdown",
      "metadata": {},
      "source": [
        "### Как соотносятся зарплаты Data Scientist и Data Engineer в различных компаниях?\n",
        "\n",
        "*Нулевая гипотеза*: ЗП не отличается в разных типах специализации: Data Scientist($μ_1$), Data Engineer ($μ_2$).\n",
        "\n",
        "$$ H_0 : μ_1 = μ_2$$\n",
        "\n",
        "*Альтернативная гипотеза*: ЗП отличается в разных типах специализации: Data Scientist($μ_1$), Data Engineer ($μ_2$).\n",
        "\n",
        "$$ H_1 : μ_1 \\neq μ_2$$"
      ]
    },
    {
      "cell_type": "code",
      "execution_count": 191,
      "metadata": {},
      "outputs": [
        {
          "name": "stdout",
          "output_type": "stream",
          "text": [
            "p-value = 0.000\n",
            "p-значение меньше, чем заданный уровень значимости 0.05. Распределение отлично от нормального\n",
            "p-value = 0.000\n",
            "p-значение меньше, чем заданный уровень значимости 0.05. Распределение отлично от нормального\n"
          ]
        }
      ],
      "source": [
        "# формируем группы\n",
        "salary_DScientists = data.loc[data['job_classification']=='Data Scientist', 'salary_in_usd'] \n",
        "salary_DEngineers = data.loc[data['job_classification']=='Data Engineer', 'salary_in_usd'] \n",
        "\n",
        "# проводим тест Шапиро-Уилка\n",
        "result = stats.shapiro(salary_DScientists)\n",
        "decision_normality(result[1])\n",
        "\n",
        "result = stats.shapiro(salary_DEngineers)\n",
        "decision_normality(result[1])\n"
      ]
    },
    {
      "attachments": {},
      "cell_type": "markdown",
      "metadata": {},
      "source": [
        "**Выберем подходящий статистический тест**\n",
        "\n",
        "Для выбора нужного теста воспользуемся алгоритмом выбора теста. Для этого ответим на следующие вопросы:\n",
        "* Какой тип у признака «salary_in_usd»? — Количественный\n",
        "* Сколько сравниваемых групп? — 2\n",
        "* Группы зависимы? — Нет\n",
        "* Признак распределён по нормальному закону? — Нет\n",
        "\n",
        "Для проверки нашей гипотезы можно использовать U-критерий Манна-Уитни.\n",
        "\n",
        "**Проведём тест**"
      ]
    },
    {
      "cell_type": "code",
      "execution_count": 192,
      "metadata": {},
      "outputs": [
        {
          "name": "stdout",
          "output_type": "stream",
          "text": [
            "p-value = 0.798\n",
            "p-значение больше, чем заданный уровень значимости 0.05. У нас нет оснований отвергнуть нулевую гипотезу.\n"
          ]
        }
      ],
      "source": [
        "# проводим тест U-КРИТЕРИЙ МАННА — УИТНИ\n",
        "_, p = stats.mannwhitneyu(salary_DScientists, salary_DEngineers, alternative='two-sided') # альтернативная гипотеза, что equal>non equal\n",
        "decision_hypothesis(p)"
      ]
    },
    {
      "attachments": {},
      "cell_type": "markdown",
      "metadata": {},
      "source": [
        "ЗП в сферах Data Scientist и Data Engineer не имеют статистически значимой разницы"
      ]
    },
    {
      "attachments": {},
      "cell_type": "markdown",
      "metadata": {},
      "source": [
        "### Есть ли связь между наличием должностей Data Scientist и Data Engineer и размером компании?\n",
        "\n",
        "*Нулевая гипотеза*: между специализацией сотрудника и размером компании нет взаимосвязи (признаки независимы).\n",
        "\n",
        "*Альтернативная гипотеза*: между специализацией сотрудника и размером компании есть взаимосвязь (признаки зависимы).\n",
        "\n",
        "**Выберем подходящий статистический тест**\n",
        "\n",
        "Для выбора нужного теста воспользуемся алгоритмом выбора теста. Для этого ответим на следующие вопросы:\n",
        "* Какой тип у признака «специализация»? — Категориальный.\n",
        "* Сколько сравниваемых групп? — 3.\n",
        "* Проверяется независимость групп? — Да.\n",
        "\n",
        "Для проверки нашей гипотезы можно использовать критерий ${\\chi}^2$ (хи-квадрат).\n",
        "\n",
        "**Проведём тест**"
      ]
    },
    {
      "cell_type": "code",
      "execution_count": 193,
      "metadata": {},
      "outputs": [
        {
          "data": {
            "text/html": [
              "<div>\n",
              "<style scoped>\n",
              "    .dataframe tbody tr th:only-of-type {\n",
              "        vertical-align: middle;\n",
              "    }\n",
              "\n",
              "    .dataframe tbody tr th {\n",
              "        vertical-align: top;\n",
              "    }\n",
              "\n",
              "    .dataframe thead th {\n",
              "        text-align: right;\n",
              "    }\n",
              "</style>\n",
              "<table border=\"1\" class=\"dataframe\">\n",
              "  <thead>\n",
              "    <tr style=\"text-align: right;\">\n",
              "      <th>company_size</th>\n",
              "      <th>L</th>\n",
              "      <th>M</th>\n",
              "      <th>S</th>\n",
              "    </tr>\n",
              "    <tr>\n",
              "      <th>job_classification</th>\n",
              "      <th></th>\n",
              "      <th></th>\n",
              "      <th></th>\n",
              "    </tr>\n",
              "  </thead>\n",
              "  <tbody>\n",
              "    <tr>\n",
              "      <th>Data Engineer</th>\n",
              "      <td>71</td>\n",
              "      <td>125</td>\n",
              "      <td>34</td>\n",
              "    </tr>\n",
              "    <tr>\n",
              "      <th>Data Scientist</th>\n",
              "      <td>74</td>\n",
              "      <td>90</td>\n",
              "      <td>30</td>\n",
              "    </tr>\n",
              "  </tbody>\n",
              "</table>\n",
              "</div>"
            ],
            "text/plain": [
              "company_size         L    M   S\n",
              "job_classification             \n",
              "Data Engineer       71  125  34\n",
              "Data Scientist      74   90  30"
            ]
          },
          "metadata": {},
          "output_type": "display_data"
        },
        {
          "name": "stdout",
          "output_type": "stream",
          "text": [
            "p-value = 0.226\n",
            "p-значение больше, чем заданный уровень значимости 0.05. У нас нет оснований отвергнуть нулевую гипотезу.\n"
          ]
        }
      ],
      "source": [
        "# Отделяем профессии Data Scientist и Data Engineer от других специальностей\n",
        "DS_and_DE = data[data['job_classification'] != 'other'] \n",
        "\n",
        "# проводим тест на уменьшенных данных\n",
        "cross_table = pd.crosstab(DS_and_DE['job_classification'], DS_and_DE['company_size'])\n",
        "display(cross_table)\n",
        "\n",
        "_, p, _, _ = stats.chi2_contingency(cross_table) \n",
        "decision_hypothesis(p)"
      ]
    },
    {
      "attachments": {},
      "cell_type": "markdown",
      "metadata": {},
      "source": [
        "Нет статистически значимой связи между наличием должностей Data Scientist и Data Engineer и размером компании"
      ]
    },
    {
      "attachments": {},
      "cell_type": "markdown",
      "metadata": {
        "id": "weubXekLfsQX"
      },
      "source": [
        "## Итоговые результаты исследования\n",
        "\n",
        "*   Наблюдается ли ежегодный рост зарплат у специалистов Data Scientist?\\\n",
        "ЗП отличается год к году, однако рост с 2020 на 2021 г. не очевиден, а вот рост ЗП в сфере Data Science с 2021 на 2022 г. явно был\n",
        "\n",
        "*   Влияет ли опыт работы ('experience_level') на зарплату у специалистов Data Scientist?\\\n",
        "По мере роста экспертности в сфере Data Science ЗП специалистов действительно растет\n",
        "\n",
        "*   Влияет ли тип занятости ('employment_type') на зарплату у специалистов Data Scientist?\\\n",
        "Мы можем наверняка говорить только про полную и неполную занятость - ЗП при неполной занятости ниже. Про связь остальных типов занятости ничего точно сказать нельзя\n",
        "\n",
        "*   Влияет ли доля удаленной работы ('remote_ratio') на зарплату у специалистов Data Scientist?\\\n",
        "Можно сделать вывод, что объем удаленной работы действительно связан с объемом ЗП, но логика нелинейная: больше всего ЗП у тех, кто работает 100% на удаленке, потом идут те, кто практически не имеет удаленной работы, а вот заработок тех, у кого в удаленном формате половина работы - самый низкий\n",
        "\n",
        "*   Влияет ли размер компании ('company_size') на зарплату у специалистов Data Scientist?\\\n",
        "Можно заключить, что размер компании действительно влияет на ЗП сотрудников: малые компании платят меньше, чем средние и крупные. Однако, кто между M и L лидирует наверняка сказать нельзя\n",
        "\n",
        "*   Влияет ли локация сотрудника (расположен он в одном и том же регионе, что и работодатель или нет) на его заработную плату?\\\n",
        "Действительно, если компания и сотрудник находятся в одном регионе, сотрудник может получать больше, чем когда они находятся в разных\n",
        "\n",
        "*   Влияет ли локация сотрудника (расположен он в одном и том же регионе, что и работодатель или нет) на его объем удаленной работы?\\\n",
        "Не существует статистически значимой взаимосвязи между расположением сотрудника относительно работодателя и его объемом удаленной работы\n",
        "\n",
        "*   Как соотносятся зарплаты Data Scientist и Data Engineer в различных компаниях?\\\n",
        "ЗП в сферах Data Scientist и Data Engineer не имеют статистически значимой разницы\n",
        "\n",
        "*   Есть ли связь между наличием должностей Data Scientist и Data Engineer и размером компании?\\\n",
        "Нет статистически значимой связи между наличием должностей Data Scientist и Data Engineer и размером компании"
      ]
    }
  ],
  "metadata": {
    "colab": {
      "provenance": []
    },
    "kernelspec": {
      "display_name": "Python 3",
      "language": "python",
      "name": "python3"
    },
    "language_info": {
      "codemirror_mode": {
        "name": "ipython",
        "version": 3
      },
      "file_extension": ".py",
      "mimetype": "text/x-python",
      "name": "python",
      "nbconvert_exporter": "python",
      "pygments_lexer": "ipython3",
      "version": "3.10.11 (tags/v3.10.11:7d4cc5a, Apr  5 2023, 00:38:17) [MSC v.1929 64 bit (AMD64)]"
    },
    "vscode": {
      "interpreter": {
        "hash": "d7b6dd1b8f562c0e4615648c99a75a5290a295b6a01485ab11c624438b822122"
      }
    }
  },
  "nbformat": 4,
  "nbformat_minor": 0
}
