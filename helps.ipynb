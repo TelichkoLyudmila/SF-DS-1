{
 "cells": [
  {
   "attachments": {},
   "cell_type": "markdown",
   "metadata": {},
   "source": [
    "Helps links"
   ]
  },
  {
   "attachments": {},
   "cell_type": "markdown",
   "metadata": {},
   "source": [
    "# 30 команд Git\n",
    "https://habr.com/ru/company/ruvds/blog/599929/"
   ]
  },
  {
   "attachments": {},
   "cell_type": "markdown",
   "metadata": {},
   "source": [
    "# Как зафиксировать версии библиотеки, которые использовались в проекте\n",
    "через pip командой pip freeze > requirements.txt\n",
    "# В результате выполнения команды в папке проекта появится файл requirements.txt, где будут перечислены все версии библиотек, которые сейчас установлены в окружении\n",
    "# Как перенести эти версии библиотек на другой компьютер, чтобы наш проект работал на нём?\n",
    "необходимо использовать команду pip install -r requirements.txt\n"
   ]
  },
  {
   "attachments": {},
   "cell_type": "markdown",
   "metadata": {},
   "source": [
    "# Игра в GIT\n",
    "https://learngitbranching.js.org "
   ]
  }
 ],
 "metadata": {
  "kernelspec": {
   "display_name": "Python 3",
   "language": "python",
   "name": "python3"
  },
  "language_info": {
   "codemirror_mode": {
    "name": "ipython",
    "version": 3
   },
   "file_extension": ".py",
   "mimetype": "text/x-python",
   "name": "python",
   "nbconvert_exporter": "python",
   "pygments_lexer": "ipython3",
   "version": "3.9.10 (tags/v3.9.10:f2f3f53, Jan 17 2022, 15:14:21) [MSC v.1929 64 bit (AMD64)]"
  },
  "orig_nbformat": 4,
  "vscode": {
   "interpreter": {
    "hash": "63d2d5fd582e527eabc44df71c8ab4bc1783ffbbf5afaf48e2e67eac4c18388c"
   }
  }
 },
 "nbformat": 4,
 "nbformat_minor": 2
}
