{
 "cells": [
  {
   "attachments": {},
   "cell_type": "markdown",
   "metadata": {},
   "source": [
    "Helps links"
   ]
  },
  {
   "attachments": {},
   "cell_type": "markdown",
   "metadata": {},
   "source": [
    "## 30 команд Git\n",
    "https://habr.com/ru/company/ruvds/blog/599929/"
   ]
  },
  {
   "attachments": {},
   "cell_type": "markdown",
   "metadata": {},
   "source": [
    "## Как зафиксировать версии библиотеки, которые использовались в проекте\n",
    "- После успешного срабатывания кода:\n",
    "через pip командой pip freeze > requirements.txt\n",
    "- В результате выполнения команды в папке проекта появится файл requirements.txt, где будут перечислены все версии библиотек, которые сейчас установлены в окружении\n",
    "## Как перенести эти версии библиотек на другой компьютер, чтобы наш проект работал на нём?\n",
    "необходимо использовать команду pip install -r requirements.txt"
   ]
  },
  {
   "attachments": {},
   "cell_type": "markdown",
   "metadata": {},
   "source": [
    "# Игра в GIT\n",
    "https://learngitbranching.js.org "
   ]
  },
  {
   "attachments": {},
   "cell_type": "markdown",
   "metadata": {},
   "source": [
    "## GoogleColab позволяет запустить чей-то код без мощности своего компьютера\n",
    "https://colab.research.google.com/?utm_source=scs-index\n",
    "\n",
    "Запускает только формат юпитера"
   ]
  }
 ],
 "metadata": {
  "kernelspec": {
   "display_name": "Python 3",
   "language": "python",
   "name": "python3"
  },
  "language_info": {
   "codemirror_mode": {
    "name": "ipython",
    "version": 3
   },
   "file_extension": ".py",
   "mimetype": "text/x-python",
   "name": "python",
   "nbconvert_exporter": "python",
   "pygments_lexer": "ipython3",
   "version": "3.10.10 (tags/v3.10.10:aad5f6a, Feb  7 2023, 17:20:36) [MSC v.1929 64 bit (AMD64)]"
  },
  "orig_nbformat": 4,
  "vscode": {
   "interpreter": {
    "hash": "d7b6dd1b8f562c0e4615648c99a75a5290a295b6a01485ab11c624438b822122"
   }
  }
 },
 "nbformat": 4,
 "nbformat_minor": 2
}
